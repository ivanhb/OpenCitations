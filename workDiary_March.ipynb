{
 "cells": [
  {
   "cell_type": "markdown",
   "metadata": {},
   "source": [
    "---\n",
    "## Thursday 1/3/2018:\n",
    "Two important additions to the 'cociprocess' script:\n",
    "* A new heuristic to handle the negative time span: in case the timespan calculated with the cited document is negative, we calculate its timespan with the date in the ‘year’ field, and in case this one is positive we take this value instead.\n",
    "* Update the dates dictionary in case we find a much detailed date value for the same id\n",
    "\n",
    "Other issues have been fixed in the script that will execute in parallel cociprocess.py. Most importantly, the script will keep track of the processes in execution and re-run a process in case it stops for some reason.  \n",
    "I have executed the script on our server for the ‘open/’ data stored. I will check the results of it tomorrow. "
   ]
  },
  {
   "cell_type": "markdown",
   "metadata": {},
   "source": [
    "---\n",
    "## Friday 2/3/2018:\n",
    "I had run the script father that creates N number of subprocesses which processes the crossref dumb and create the resulting CSV files. N equals the number of inner folders in the root directory path given to the father script. Here is the actual command (executed from the ‘script/’ folder):\n",
    "\n",
    "```nohup python3.5 multi_cociprocess.py -script cociprocess.py -in /srv/data/coci/open/ -out /srv/data/coci/results/open/ -lookup /home/ivanhb/lookup.csv &```\n",
    "\n",
    "The first output raised some small issues, which I have fixed with additional controls added to the script. \n",
    "Despite this there is a much more concerning problem: Although the processes have been all created they stay too much time in sleeping status. The processes don’t run continuously, this behavior slows down a lot the expected performances.  \n",
    "I have tried several tests, and modified several parameters of the Popen python command, but still without positive feedbacks."
   ]
  },
  {
   "cell_type": "markdown",
   "metadata": {
    "collapsed": true
   },
   "source": [
    "---\n",
    "## Monday 5/3/2018:\n",
    "We are still stuck with a processes parallelism problem. Both me and Silvio are looking for techniques and possible solutions to this problem. Since we still cannot let all the processes stay active, their scheduling paradigm slows a lot the entire dump elaboration. I spent the day searching the web for some approaches and strategies that might change this situation. \n",
    "* Modifying the multi_cociprocess.py script by using the multiprocessing library. \n",
    "* Applying different parameters to the Popen call that could affect its execution.\n",
    "* Monitoring the outputs of the scripts, in case unexpected behaviors happened  \n",
    "* Creating multiple cociprocess.py scripts to execute for each different process\n",
    "\n",
    "Unfortunately still without positive feedbacks from the execution."
   ]
  },
  {
   "cell_type": "code",
   "execution_count": null,
   "metadata": {
    "collapsed": true
   },
   "outputs": [],
   "source": []
  }
 ],
 "metadata": {
  "anaconda-cloud": {},
  "kernelspec": {
   "display_name": "Python [default]",
   "language": "python",
   "name": "python3"
  },
  "language_info": {
   "codemirror_mode": {
    "name": "ipython",
    "version": 3
   },
   "file_extension": ".py",
   "mimetype": "text/x-python",
   "name": "python",
   "nbconvert_exporter": "python",
   "pygments_lexer": "ipython3",
   "version": "3.5.2"
  }
 },
 "nbformat": 4,
 "nbformat_minor": 2
}
