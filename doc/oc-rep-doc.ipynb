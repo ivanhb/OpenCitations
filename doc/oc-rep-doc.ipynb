{
 "cells": [
  {
   "cell_type": "markdown",
   "metadata": {},
   "source": [
    "# The Website\n",
    "***"
   ]
  },
  {
   "cell_type": "markdown",
   "metadata": {},
   "source": [
    "## Notes :"
   ]
  },
  {
   "cell_type": "markdown",
   "metadata": {},
   "source": [
    "1. Each .html file inside /html-template have the ability to generate the index menu. This thing is done by giving as input to the html page generator as parameter the variable ‘pages’ defined in the server file “oc.py”. The list of pages will be iterated in a *for* loop in order to create a navigation index menu (nav)"
   ]
  },
  {
   "cell_type": "markdown",
   "metadata": {
    "collapsed": true
   },
   "source": [
    "## Adjustments :"
   ]
  },
  {
   "cell_type": "markdown",
   "metadata": {},
   "source": [
    "1. **The index menu transparent background.** This fact can be disturbing specially when scrolling. We might change it to a white background. This is done by modifying the background-color field of the masthead-nav class from the .css file in static/css/cover.css (to white maybe).  \n",
    "\n",
    "2. **Add a margin between the index menu and the body of the selected page.** We can do this by also modifying the masthead class in the css. **Note:** if we change the value of margin-left of the class masthead-nav in cover.css, the menu index can change position.\n",
    "\n",
    "3. **Collocate a search box in the index menu.** We need to add this box inside the masthead div and keep it available from any other page.\n"
   ]
  },
  {
   "cell_type": "code",
   "execution_count": null,
   "metadata": {
    "collapsed": true
   },
   "outputs": [],
   "source": []
  }
 ],
 "metadata": {
  "anaconda-cloud": {},
  "kernelspec": {
   "display_name": "Python [conda env:py27]",
   "language": "python",
   "name": "conda-env-py27-py"
  },
  "language_info": {
   "codemirror_mode": {
    "name": "ipython",
    "version": 2
   },
   "file_extension": ".py",
   "mimetype": "text/x-python",
   "name": "python",
   "nbconvert_exporter": "python",
   "pygments_lexer": "ipython2",
   "version": "2.7.12"
  }
 },
 "nbformat": 4,
 "nbformat_minor": 2
}
