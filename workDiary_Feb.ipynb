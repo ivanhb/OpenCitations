{
 "cells": [
  {
   "cell_type": "markdown",
   "metadata": {},
   "source": [
    "## Thursday 1/2/2018:\n",
    "I have modified/extended the OSCAR repository documentation, mainly the first readme.md file. In addition, to keep track of all the extensions/modifications to apply to the software, I have listed them all in the Issues sections. Part of this documentation will largely change when the advanced version of OSCAR will take place (soon in the next week hopefully).  \n",
    "I have adjusted other parts of the interface in the advanced layout, and I am trying to integrate also the “And Not” boolean operator as a possible connectors between the different rules.  \n",
    "Together with Silvio decided to stop the usability test of OSCAR and to start analyze the results obtained. I have separated the questionnaires results in different files according to the questionnaire type: sus, background, grounded. [paper/OSCAR/results](paper/OSCAR/results) I have calculated some metrics, including the SUS average result. The final SUS mean is 87 which is considered very high. "
   ]
  },
  {
   "cell_type": "markdown",
   "metadata": {
    "collapsed": true
   },
   "source": [
    "---"
   ]
  },
  {
   "cell_type": "markdown",
   "metadata": {
    "collapsed": true
   },
   "source": [
    "## Friday 2/2/2018:\n",
    "Together with Silvio we have fixed the final issues before finally submitting our paper to [SAVE-SD 2018](https://save-sd.github.io/2018/). In particular, we have corrected/discussed the test results and uploaded the results on [FigShare](https://figshare.com/). \n",
    "\n",
    "[**OSCAR: A customisable tool for free-text search over SPARQL endpoints**](https://essepuntato.github.io/papers/oscar-savesd2018.html)  \n",
    "\n",
    "After, I moved back to developing the advanced search. I have been able to include the “AND NOT” boolean operator as a possible connector between the rules a user can specify. In SPARQL this command is handled through the “MINUS { [[QUERY]] }” statement. Unlike the “FILTER ( !EXIST{ [[QUERY]] })” the “MINUS” operator will remove from the result-set the entries that follow its inner query.  \n",
    "Since We want to make more clear the Wikidata and ScholarlyData integration with OSCAR, I have created a new directory [“example”](https://github.com/ivanhb/OSCAR/tree/master/example) inside [OSCAR git repository](https://github.com/ivanhb/OSCAR) which separately includes each one of these examples with its corresponding .html file: [Wikidata](https://github.com/ivanhb/OSCAR/tree/master/example/wikidata), [ScholarlyData](https://github.com/ivanhb/OSCAR/tree/master/example/scholarlydata)."
   ]
  },
  {
   "cell_type": "code",
   "execution_count": null,
   "metadata": {
    "collapsed": true
   },
   "outputs": [],
   "source": []
  }
 ],
 "metadata": {
  "anaconda-cloud": {},
  "kernelspec": {
   "display_name": "Python [conda env:py27]",
   "language": "python",
   "name": "conda-env-py27-py"
  },
  "language_info": {
   "codemirror_mode": {
    "name": "ipython",
    "version": 2
   },
   "file_extension": ".py",
   "mimetype": "text/x-python",
   "name": "python",
   "nbconvert_exporter": "python",
   "pygments_lexer": "ipython2",
   "version": "2.7.12"
  }
 },
 "nbformat": 4,
 "nbformat_minor": 2
}
