{
 "cells": [
  {
   "cell_type": "code",
   "execution_count": 4,
   "metadata": {
    "collapsed": false
   },
   "outputs": [],
   "source": [
    "def convert_to_conf(file_path):\n",
    "    file = open(file_path, \"r\") \n",
    "    arr_lines = file.readlines() \n",
    "\n",
    "    separator = \",\"\n",
    "    i=0\n",
    "    for line in arr_lines:\n",
    "        line = line.rstrip()\n",
    "\n",
    "        if(i == len(arr_lines) - 1):\n",
    "            separator = \"\"\n",
    "        pre_white = ' ' * (len(line) - len(line.lstrip()))\n",
    "        print pre_white+'\"'+line.lstrip()+'\"'+separator\n",
    "        i= i + 1"
   ]
  },
  {
   "cell_type": "code",
   "execution_count": 7,
   "metadata": {
    "collapsed": false
   },
   "outputs": [
    {
     "name": "stdout",
     "output_type": "stream",
     "text": [
      "\"select ?author ?lblname ?lblfname ?lblcountry where {\",\n",
      "   \"?author wdt:P496 '0000-0003-0530-4305' .\",\n",
      "   \"optional{\",\n",
      "     \"?author wdt:P734 ?fname .\",\n",
      "     \"?fname wdt:P1705 ?lblfname .\",\n",
      "  \"}\",\n",
      "  \"optional{\",\n",
      "     \"?author wdt:P735 ?name .\",\n",
      "     \"?name wdt:P1705 ?lblname .\",\n",
      "  \"}\",\n",
      "  \"optional{\",\n",
      "      \"?author wdt:P27 ?country .\",\n",
      "      \"?country wdt:P1705 ?lblcountry .\",\n",
      "  \"}\",\n",
      "  \"service wikibase:label {\",\n",
      "              \"bd:serviceParam wikibase:language 'en,da,no,sv,de,fr,es,ru,jp,ru,zh' . }\",\n",
      "\"}\"\n"
     ]
    }
   ],
   "source": [
    "#convert the text to array elements to put inside the configuration file\n",
    "#copy and paste the printed text inside the config file\n",
    "\n",
    "#convert_to_conf(\"query_doi_search.txt\")\n",
    "convert_to_conf(\"query-test.txt\")\n",
    "#convert_to_conf(\"query_orcid_search.txt\")"
   ]
  },
  {
   "cell_type": "code",
   "execution_count": 10,
   "metadata": {
    "collapsed": true
   },
   "outputs": [],
   "source": [
    "#reverse conversion\n",
    "\n",
    "arr_str = [\n",
    "    \"SELECT DISTINCT ?doc ?short_iri ?doi ?title ?year ?author ?author_iri (COUNT(distinct ?cited) AS ?out_cits) (COUNT(distinct ?cited_by) AS ?in_cits) where {\",\n",
    "            \"BIND('[[VAR]]' as ?doi_txt) .\",\n",
    "            \"?lit bds:search ?doi_txt . ?lit bds:matchAllTerms 'true' . ?lit bds:relevance ?score . ?lit bds:maxRank '1' .\",\n",
    "            \"?iri datacite:hasIdentifier/literal:hasLiteralValue ?lit .\",\n",
    "            \"BIND(?lit AS ?doi).\",\n",
    "            \"BIND(REPLACE(STR(?iri), 'https://w3id.org/oc/corpus', '', 'i') as ?short_iri) .\",\n",
    "            \"BIND(?iri as ?doc) .\",\n",
    "            \"OPTIONAL {?iri dcterms:title ?title .}\",\n",
    "            \"OPTIONAL {?iri fabio:hasSubtitle ?subtitle .}\",\n",
    "            \"OPTIONAL {?iri fabio:hasPublicationYear ?year .}\",\n",
    "            \"OPTIONAL {?iri cito:cites ?cited .}\",\n",
    "            \"OPTIONAL {?cited_by cito:cites ?iri .}\",\n",
    "            \"\",\n",
    "             \"OPTIONAL {\",\n",
    "                    \"?iri pro:isDocumentContextFor [\",\n",
    "                        \"pro:withRole pro:author ;\",\n",
    "                        \"pro:isHeldBy ?author_iri\",\n",
    "                    \"].\",\n",
    "                    \"?author_iri foaf:familyName ?fname .\",\n",
    "                    \"?author_iri foaf:givenName ?name .\",\n",
    "                    \"BIND(CONCAT(STR(?name),' ', STR(?fname)) as ?author) .\",\n",
    "             \"}\",\n",
    "          \"} GROUP BY ?doc ?short_iri ?doi ?title ?year ?author ?author_iri\"\n",
    "]\n"
   ]
  },
  {
   "cell_type": "code",
   "execution_count": 11,
   "metadata": {
    "collapsed": false
   },
   "outputs": [
    {
     "name": "stdout",
     "output_type": "stream",
     "text": [
      "SELECT DISTINCT ?doc ?short_iri ?doi ?title ?year ?author ?author_iri (COUNT(distinct ?cited) AS ?out_cits) (COUNT(distinct ?cited_by) AS ?in_cits) where {\n",
      "BIND('[[VAR]]' as ?doi_txt) .\n",
      "?lit bds:search ?doi_txt . ?lit bds:matchAllTerms 'true' . ?lit bds:relevance ?score . ?lit bds:maxRank '1' .\n",
      "?iri datacite:hasIdentifier/literal:hasLiteralValue ?lit .\n",
      "BIND(?lit AS ?doi).\n",
      "BIND(REPLACE(STR(?iri), 'https://w3id.org/oc/corpus', '', 'i') as ?short_iri) .\n",
      "BIND(?iri as ?doc) .\n",
      "OPTIONAL {?iri dcterms:title ?title .}\n",
      "OPTIONAL {?iri fabio:hasSubtitle ?subtitle .}\n",
      "OPTIONAL {?iri fabio:hasPublicationYear ?year .}\n",
      "OPTIONAL {?iri cito:cites ?cited .}\n",
      "OPTIONAL {?cited_by cito:cites ?iri .}\n",
      "\n",
      "OPTIONAL {\n",
      "?iri pro:isDocumentContextFor [\n",
      "pro:withRole pro:author ;\n",
      "pro:isHeldBy ?author_iri\n",
      "].\n",
      "?author_iri foaf:familyName ?fname .\n",
      "?author_iri foaf:givenName ?name .\n",
      "BIND(CONCAT(STR(?name),' ', STR(?fname)) as ?author) .\n",
      "}\n",
      "} GROUP BY ?doc ?short_iri ?doi ?title ?year ?author ?author_iri\n"
     ]
    }
   ],
   "source": [
    "for entry in arr_str:\n",
    "    entry = entry.replace('\"', '')\n",
    "    print entry"
   ]
  },
  {
   "cell_type": "code",
   "execution_count": null,
   "metadata": {
    "collapsed": true
   },
   "outputs": [],
   "source": []
  }
 ],
 "metadata": {
  "anaconda-cloud": {},
  "kernelspec": {
   "display_name": "Python [conda env:py27]",
   "language": "python",
   "name": "conda-env-py27-py"
  },
  "language_info": {
   "codemirror_mode": {
    "name": "ipython",
    "version": 2
   },
   "file_extension": ".py",
   "mimetype": "text/x-python",
   "name": "python",
   "nbconvert_exporter": "python",
   "pygments_lexer": "ipython2",
   "version": "2.7.12"
  }
 },
 "nbformat": 4,
 "nbformat_minor": 2
}
