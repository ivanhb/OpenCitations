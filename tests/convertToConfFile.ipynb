{
 "cells": [
  {
   "cell_type": "code",
   "execution_count": 4,
   "metadata": {
    "collapsed": false
   },
   "outputs": [],
   "source": [
    "def convert_to_conf(file_path):\n",
    "    file = open(file_path, \"r\") \n",
    "    arr_lines = file.readlines() \n",
    "\n",
    "    separator = \",\"\n",
    "    i=0\n",
    "    for line in arr_lines:\n",
    "        line = line.rstrip()\n",
    "\n",
    "        if(i == len(arr_lines) - 1):\n",
    "            separator = \"\"\n",
    "        pre_white = ' ' * (len(line) - len(line.lstrip()))\n",
    "        print pre_white+'\"'+line.lstrip()+'\"'+separator\n",
    "        i= i + 1"
   ]
  },
  {
   "cell_type": "code",
   "execution_count": 6,
   "metadata": {
    "collapsed": false
   },
   "outputs": [
    {
     "name": "stdout",
     "output_type": "stream",
     "text": [
      "\"select ?work ?title ?venueLabel ?date ?volume ?issue ?pages ?license ?doi ?url ?type where {\",\n",
      "  \"?work wdt:P356 \"10.1093/IRAP/LCR020\" .\",\n",
      "  \"?work wdt:P1476 ?title .\",\n",
      "  \"optional { ?work wdt:P31 ?type . }\",\n",
      "  \"optional { ?work wdt:P1433 ?venue . }\",\n",
      "  \"optional { ?work wdt:P577 ?date . }\",\n",
      "  \"optional { ?work wdt:P478 ?volume . }\",\n",
      "  \"optional { ?work wdt:P433 ?issue . }\",\n",
      "  \"optional { ?work wdt:P304 ?pages . }\",\n",
      "  \"optional { ?work wdt:P275 ?license_ .\",\n",
      "              \"?license_ rdfs:label ?license .\",\n",
      "              \"filter(lang(?license) = 'en') }\",\n",
      "  \"optional { ?work wdt:P356 ?doi . }\",\n",
      "  \"optional { ?work wdt:P953 ?url . }\",\n",
      "  \"service wikibase:label {\",\n",
      "    \"bd:serviceParam wikibase:language \"en,da,no,sv,de,fr,es,ru,jp,ru,zh\" . }\",\n",
      "\"}\"\n"
     ]
    }
   ],
   "source": [
    "#convert the text to array elements to put inside the configuration file\n",
    "#copy and paste the printed text inside the config file\n",
    "\n",
    "#convert_to_conf(\"query_doi_search.txt\")\n",
    "convert_to_conf(\"query-test.txt\")\n",
    "#convert_to_conf(\"query_orcid_search.txt\")"
   ]
  },
  {
   "cell_type": "code",
   "execution_count": 5,
   "metadata": {
    "collapsed": true
   },
   "outputs": [],
   "source": [
    "#reverse conversion\n",
    "\n",
    "arr_str = [\n",
    "    \"SELECT ?label ?orcid ?author_iri ?author (COUNT(distinct ?doc) AS ?num_docs) (COUNT(distinct ?cites) AS ?out_cits) (COUNT(distinct ?cited_by) AS ?in_cits) WHERE {\",\n",
    "  \t         \"BIND(<VAR> as ?author_iri) .\",\n",
    "             \"?author_iri rdfs:label ?label .\",\n",
    "  \t         \"?author_iri foaf:familyName ?fname .\",\n",
    "  \t         \"?author_iri foaf:givenName ?name .\",\n",
    "  \t         \"BIND(CONCAT(STR(?name),' ', STR(?fname)) as ?author) .\",\n",
    "  \t         \"OPTIONAL {?role pro:isHeldBy ?author_iri .}\",\n",
    "             \"OPTIONAL {?doc pro:isDocumentContextFor ?role.}\",\n",
    "             \"OPTIONAL {?doc cito:cites ?cites .}\",\n",
    "             \"OPTIONAL {?cited_by cito:cites ?doc .}\",\n",
    "             \"OPTIONAL {\",\n",
    "    \t          \"?author_iri datacite:hasIdentifier [\",\n",
    "    \t\t            \"datacite:usesIdentifierScheme datacite:orcid ;\",\n",
    "\t\t\t              \"literal:hasLiteralValue ?orcid\",\n",
    "                \"]\",\n",
    "  \t         \"}\",\n",
    "           \"} GROUP BY ?label ?orcid ?author_iri ?author \"\n",
    "]\n"
   ]
  },
  {
   "cell_type": "code",
   "execution_count": 6,
   "metadata": {
    "collapsed": false
   },
   "outputs": [
    {
     "name": "stdout",
     "output_type": "stream",
     "text": [
      "SELECT ?label ?orcid ?author_iri ?author (COUNT(distinct ?doc) AS ?num_docs) (COUNT(distinct ?cites) AS ?out_cits) (COUNT(distinct ?cited_by) AS ?in_cits) WHERE {\n",
      "BIND(<VAR> as ?author_iri) .\n",
      "?author_iri rdfs:label ?label .\n",
      "?author_iri foaf:familyName ?fname .\n",
      "?author_iri foaf:givenName ?name .\n",
      "BIND(CONCAT(STR(?name),' ', STR(?fname)) as ?author) .\n",
      "OPTIONAL {?role pro:isHeldBy ?author_iri .}\n",
      "OPTIONAL {?doc pro:isDocumentContextFor ?role.}\n",
      "OPTIONAL {?doc cito:cites ?cites .}\n",
      "OPTIONAL {?cited_by cito:cites ?doc .}\n",
      "OPTIONAL {\n",
      "?author_iri datacite:hasIdentifier [\n",
      "datacite:usesIdentifierScheme datacite:orcid ;\n",
      "literal:hasLiteralValue ?orcid\n",
      "]\n",
      "}\n",
      "} GROUP BY ?label ?orcid ?author_iri ?author \n"
     ]
    }
   ],
   "source": [
    "for entry in arr_str:\n",
    "    entry = entry.replace('\"', '')\n",
    "    print entry"
   ]
  },
  {
   "cell_type": "code",
   "execution_count": null,
   "metadata": {
    "collapsed": true
   },
   "outputs": [],
   "source": []
  }
 ],
 "metadata": {
  "anaconda-cloud": {},
  "kernelspec": {
   "display_name": "Python [conda env:py27]",
   "language": "python",
   "name": "conda-env-py27-py"
  },
  "language_info": {
   "codemirror_mode": {
    "name": "ipython",
    "version": 2
   },
   "file_extension": ".py",
   "mimetype": "text/x-python",
   "name": "python",
   "nbconvert_exporter": "python",
   "pygments_lexer": "ipython2",
   "version": "2.7.12"
  }
 },
 "nbformat": 4,
 "nbformat_minor": 2
}
