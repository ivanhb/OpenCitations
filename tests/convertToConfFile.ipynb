{
 "cells": [
  {
   "cell_type": "code",
   "execution_count": 5,
   "metadata": {
    "collapsed": false
   },
   "outputs": [],
   "source": [
    "def convert_to_conf(file_path):\n",
    "    file = open(file_path, \"r\") \n",
    "    arr_lines = file.readlines() \n",
    "\n",
    "    separator = \",\"\n",
    "    i=0\n",
    "    for line in arr_lines:\n",
    "        line = line.rstrip()\n",
    "\n",
    "        if(i == len(arr_lines) - 1):\n",
    "            separator = \"\"\n",
    "        pre_white = ' ' * (len(line) - len(line.lstrip()))\n",
    "        print pre_white+'\"'+line.lstrip()+'\"'+separator\n",
    "        i= i + 1"
   ]
  },
  {
   "cell_type": "code",
   "execution_count": 6,
   "metadata": {
    "collapsed": false
   },
   "outputs": [
    {
     "name": "stdout",
     "output_type": "stream",
     "text": [
      "\"select ?work ?title ?authorname where {\",\n",
      "  \"?work rdfs:label ?lbl1 .\",\n",
      "  \"?work wdt:P31 wd:Q13442814.\",\n",
      "  \"FILTER (langMatches( lang(?lbl1), \"EN\" ) )\",\n",
      "  \"FILTER( regex(?lbl1, 'machine' ))\",\n",
      "  \"?work wdt:P31 wd:Q13442814.\",\n",
      "  \"optional { ?work wdt:P1476 ?title .}\",\n",
      "  \"optional {\",\n",
      "    \"?work wdt:P50 ?author .\",\n",
      "    \"?author rdfs:label ?authorname .\",\n",
      "    \"FILTER (langMatches( lang(?authorname), \"EN\" ) )\",\n",
      "  \"}\",\n",
      "  \"BIND(REPLACE(STR(?work), 'http://www.wikidata.org/', '', 'i') as ?short_iri) .\",\n",
      "  \"optional { ?work wdt:P1433 ?venue . }\",\n",
      "  \"optional { ?work wdt:P577 ?date . }\",\n",
      "  \"optional { ?work wdt:P478 ?volume . }\",\n",
      "  \"optional { ?work wdt:P433 ?issue . }\",\n",
      "  \"optional { ?work wdt:P304 ?pages . }\",\n",
      "  \"optional { ?work wdt:P275 ?license_ .}\",\n",
      "  \"optional { ?work wdt:P356 ?doi . }\",\n",
      "  \"optional { ?work wdt:P953 ?url . }\",\n",
      "\"}\",\n",
      "\"LIMIT 500\"\n"
     ]
    }
   ],
   "source": [
    "#convert the text to array elements to put inside the configuration file\n",
    "#copy and paste the printed text inside the config file\n",
    "\n",
    "#convert_to_conf(\"query_doi_search.txt\")\n",
    "convert_to_conf(\"query-test.txt\")\n",
    "#convert_to_conf(\"query_orcid_search.txt\")"
   ]
  },
  {
   "cell_type": "code",
   "execution_count": 11,
   "metadata": {
    "collapsed": true
   },
   "outputs": [],
   "source": [
    "#reverse conversion\n",
    "\n",
    "arr_str = [\n",
    "   \"select ?work ?short_iri ?title ?venueLabel  (STR(YEAR (?alldate)) as ?date) ?volume ?author ?authorname ?issue ?pages ?license ?doi ?url (COUNT(distinct ?cited_by) AS ?in_cits) ?type where {\",\n",
    "          \"?work rdfs:label ?lbl1 .\",\n",
    "          \"?work wdt:P31 wd:Q13442814.\",\n",
    "          \"FILTER (langMatches( lang(?lbl1), 'EN' ) )\",\n",
    "          \"FILTER( regex(?lbl1, '[[VAR]]' ))\",\n",
    "          \"?work wdt:P31 wd:Q13442814.\",\n",
    "          \"optional { ?work wdt:P1476 ?title .}\",\n",
    "          \"optional {\",\n",
    "              \"?work wdt:P50 ?author .\",\n",
    "              \"?author rdfs:label ?authorname .\",\n",
    "              \"FILTER (langMatches( lang(?authorname), 'EN' ) )\",\n",
    "          \"}\",\n",
    "          \"BIND(REPLACE(STR(?work), 'http://www.wikidata.org/', '', 'i') as ?short_iri) .\",\n",
    "          \"optional { ?work wdt:P1433 ?venue . }\",\n",
    "          \"optional { ?cited_by wdt:P2860 ?work.}\",\n",
    "          \"optional { ?work wdt:P577 ?alldate . }\",\n",
    "          \"optional { ?work wdt:P478 ?volume . }\",\n",
    "          \"optional { ?work wdt:P433 ?issue . }\",\n",
    "          \"optional { ?work wdt:P304 ?pages . }\",\n",
    "          \"optional { ?work wdt:P275 ?license_ .}\",\n",
    "          \"optional { ?work wdt:P356 ?doi . }\",\n",
    "          \"optional { ?work wdt:P953 ?url . }\",\n",
    "            \"}\",\n",
    "            \"GROUP BY ?work ?short_iri ?title ?venueLabel ?date ?volume ?author ?authorname ?issue ?pages ?license ?doi ?url ?type \",\n",
    "            \"LIMIT 200\"\n",
    "]\n"
   ]
  },
  {
   "cell_type": "code",
   "execution_count": 12,
   "metadata": {
    "collapsed": false
   },
   "outputs": [
    {
     "name": "stdout",
     "output_type": "stream",
     "text": [
      "select ?work ?short_iri ?title ?venueLabel  (STR(YEAR (?alldate)) as ?date) ?volume ?author ?authorname ?issue ?pages ?license ?doi ?url (COUNT(distinct ?cited_by) AS ?in_cits) ?type where {\n",
      "?work rdfs:label ?lbl1 .\n",
      "?work wdt:P31 wd:Q13442814.\n",
      "FILTER (langMatches( lang(?lbl1), 'EN' ) )\n",
      "FILTER( regex(?lbl1, '[[VAR]]' ))\n",
      "?work wdt:P31 wd:Q13442814.\n",
      "optional { ?work wdt:P1476 ?title .}\n",
      "optional {\n",
      "?work wdt:P50 ?author .\n",
      "?author rdfs:label ?authorname .\n",
      "FILTER (langMatches( lang(?authorname), 'EN' ) )\n",
      "}\n",
      "BIND(REPLACE(STR(?work), 'http://www.wikidata.org/', '', 'i') as ?short_iri) .\n",
      "optional { ?work wdt:P1433 ?venue . }\n",
      "optional { ?cited_by wdt:P2860 ?work.}\n",
      "optional { ?work wdt:P577 ?alldate . }\n",
      "optional { ?work wdt:P478 ?volume . }\n",
      "optional { ?work wdt:P433 ?issue . }\n",
      "optional { ?work wdt:P304 ?pages . }\n",
      "optional { ?work wdt:P275 ?license_ .}\n",
      "optional { ?work wdt:P356 ?doi . }\n",
      "optional { ?work wdt:P953 ?url . }\n",
      "}\n",
      "GROUP BY ?work ?short_iri ?title ?venueLabel ?date ?volume ?author ?authorname ?issue ?pages ?license ?doi ?url ?type \n",
      "LIMIT 200\n"
     ]
    }
   ],
   "source": [
    "for entry in arr_str:\n",
    "    entry = entry.replace('\"', '')\n",
    "    print entry"
   ]
  },
  {
   "cell_type": "code",
   "execution_count": 7,
   "metadata": {
    "collapsed": false
   },
   "outputs": [
    {
     "name": "stdout",
     "output_type": "stream",
     "text": [
      " PREFIX cito:<http://purl.org/spar/cito/> \n",
      "PREFIX dcterms:<http://purl.org/dc/terms/> \n",
      "PREFIX datacite:<http://purl.org/spar/datacite/> \n",
      "PREFIX literal:<http://www.essepuntato.it/2010/06/literalreification/> \n",
      "PREFIX biro:<http://purl.org/spar/biro/> \n",
      "PREFIX frbr:<http://purl.org/vocab/frbr/core#> \n",
      "PREFIX c4o:<http://purl.org/spar/c4o/> \n",
      "PREFIX bds:<http://www.bigdata.com/rdf/search#> \n",
      "PREFIX fabio:<http://purl.org/spar/fabio/> \n",
      "PREFIX pro:<http://purl.org/spar/pro/> \n",
      "PREFIX rdf:<http://www.w3.org/1999/02/22-rdf-syntax-ns#> \n",
      "SELECT DISTINCT ?iri ?short_iri ?doi ?title ?year ?score ?author ?author_iri (COUNT(distinct ?cited) AS ?out_cits) (COUNT(distinct ?cited_by) AS ?in_cits) WHERE \n",
      "{ \n",
      "{ BIND('machine learning' as ?free_txt) . ?lit bds:search ?free_txt . ?lit bds:matchAllTerms 'true' . ?lit bds:relevance ?score . ?lit bds:minRelevance '0.2' . ?lit bds:maxRank '300' . { ?entry c4o:hasContent ?lit . ?entry biro:references ?iri . } UNION {?iri dcterms:title \n",
      "?lit } UNION {?iri fabio:hasSubtitle ?lit} .} UNION { BIND('10.1002/cncr.28414' as ?doi_txt) . ?lit bds:search ?doi_txt . ?lit bds:matchAllTerms 'true' . ?lit bds:relevance ?score . ?lit bds:maxRank '1' . ?iri datacite:hasIdentifier/literal:hasLiteralValue ?lit .} OPTIONAL { ?iri rdf:type ?type . BIND(REPLACE(STR(?iri), 'https://w3id.org/oc/corpus', '', 'i') as ?short_iri) . OPTIONAL {?iri dcterms:title \n",
      "?title .} OPTIONAL {?iri fabio:hasSubtitle \n",
      "?subtitle .} OPTIONAL {?iri fabio:hasPublicationYear ?year .} OPTIONAL {?iri cito:cites ?cited .} OPTIONAL {?cited_by cito:cites ?iri .} OPTIONAL { ?iri datacite:hasIdentifier [ datacite:usesIdentifierScheme datacite:doi ; literal:hasLiteralValue ?doi ] } \n",
      "OPTIONAL { ?iri pro:isDocumentContextFor [ pro:withRole pro:author ; pro:isHeldBy ?author_iri ]. ?author_iri foaf:familyName ?fname . ?author_iri foaf:givenName ?name . BIND(CONCAT(STR(?name),' ', STR(?fname)) as ?author) . } } }GROUP BY ?iri ?short_iri ?doi ?title ?year ?score ?author ?author_iri \n",
      "ORDER BY DESC(?score) \n",
      "LIMIT 2000\n"
     ]
    }
   ],
   "source": [
    "import re\n",
    "\n",
    "#convert 1 line string to SPARQL query\n",
    "str_line = \" PREFIX cito:<http://purl.org/spar/cito/>  PREFIX dcterms:<http://purl.org/dc/terms/>  PREFIX datacite:<http://purl.org/spar/datacite/>  PREFIX literal:<http://www.essepuntato.it/2010/06/literalreification/>  PREFIX biro:<http://purl.org/spar/biro/>  PREFIX frbr:<http://purl.org/vocab/frbr/core#>  PREFIX c4o:<http://purl.org/spar/c4o/>  PREFIX bds:<http://www.bigdata.com/rdf/search#>  PREFIX fabio:<http://purl.org/spar/fabio/>  PREFIX pro:<http://purl.org/spar/pro/>  PREFIX rdf:<http://www.w3.org/1999/02/22-rdf-syntax-ns#>  SELECT DISTINCT ?iri ?short_iri ?doi ?title ?year ?score ?author ?author_iri (COUNT(distinct ?cited) AS ?out_cits) (COUNT(distinct ?cited_by) AS ?in_cits) WHERE  {  { BIND('machine learning' as ?free_txt) . ?lit bds:search ?free_txt . ?lit bds:matchAllTerms 'true' . ?lit bds:relevance ?score . ?lit bds:minRelevance '0.2' . ?lit bds:maxRank '300' . { ?entry c4o:hasContent ?lit . ?entry biro:references ?iri . } UNION {?iri dcterms:title  ?lit } UNION {?iri fabio:hasSubtitle ?lit} .} UNION { BIND('10.1002/cncr.28414' as ?doi_txt) . ?lit bds:search ?doi_txt . ?lit bds:matchAllTerms 'true' . ?lit bds:relevance ?score . ?lit bds:maxRank '1' . ?iri datacite:hasIdentifier/literal:hasLiteralValue ?lit .} OPTIONAL { ?iri rdf:type ?type . BIND(REPLACE(STR(?iri), 'https://w3id.org/oc/corpus', '', 'i') as ?short_iri) . OPTIONAL {?iri dcterms:title  ?title .} OPTIONAL {?iri fabio:hasSubtitle  ?subtitle .} OPTIONAL {?iri fabio:hasPublicationYear ?year .} OPTIONAL {?iri cito:cites ?cited .} OPTIONAL {?cited_by cito:cites ?iri .} OPTIONAL { ?iri datacite:hasIdentifier [ datacite:usesIdentifierScheme datacite:doi ; literal:hasLiteralValue ?doi ] }  OPTIONAL { ?iri pro:isDocumentContextFor [ pro:withRole pro:author ; pro:isHeldBy ?author_iri ]. ?author_iri foaf:familyName ?fname . ?author_iri foaf:givenName ?name . BIND(CONCAT(STR(?name),' ', STR(?fname)) as ?author) . } } }GROUP BY ?iri ?short_iri ?doi ?title ?year ?score ?author ?author_iri  ORDER BY DESC(?score)  LIMIT 2000\"\n",
    "\n",
    "print re.sub('\\s{2,}', ' \\n', str_line)\n",
    "\n",
    "\n"
   ]
  },
  {
   "cell_type": "code",
   "execution_count": null,
   "metadata": {
    "collapsed": true
   },
   "outputs": [],
   "source": []
  }
 ],
 "metadata": {
  "anaconda-cloud": {},
  "kernelspec": {
   "display_name": "Python [conda env:py27]",
   "language": "python",
   "name": "conda-env-py27-py"
  },
  "language_info": {
   "codemirror_mode": {
    "name": "ipython",
    "version": 2
   },
   "file_extension": ".py",
   "mimetype": "text/x-python",
   "name": "python",
   "nbconvert_exporter": "python",
   "pygments_lexer": "ipython2",
   "version": "2.7.12"
  }
 },
 "nbformat": 4,
 "nbformat_minor": 2
}
