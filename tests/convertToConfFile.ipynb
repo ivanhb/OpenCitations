{
 "cells": [
  {
   "cell_type": "code",
   "execution_count": 3,
   "metadata": {
    "collapsed": false
   },
   "outputs": [],
   "source": [
    "def convert_to_conf(file_path):\n",
    "    file = open(file_path, \"r\") \n",
    "    arr_lines = file.readlines() \n",
    "\n",
    "    separator = \",\"\n",
    "    i=0\n",
    "    for line in arr_lines:\n",
    "        line = line.rstrip()\n",
    "\n",
    "        if(i == len(arr_lines) - 1):\n",
    "            separator = \"\"\n",
    "        pre_white = ' ' * (len(line) - len(line.lstrip()))\n",
    "        print pre_white+'\"'+line.lstrip()+'\"'+separator\n",
    "        i= i + 1"
   ]
  },
  {
   "cell_type": "code",
   "execution_count": 4,
   "metadata": {
    "collapsed": false
   },
   "outputs": [
    {
     "name": "stdout",
     "output_type": "stream",
     "text": [
      "                  \"<div id=\"search_extra\" class=\"search_extra\"></div>\",\n",
      "                  \"<div id=\"search_header\" class=\"search-header\">\",\n",
      "                    \"<div id=\"rows_per_page\"></div>\",\n",
      "                    \"<div id=\"sort_results\"></div>\",\n",
      "                  \"</div>\",\n",
      "                  \"<div id=\"search_body\" class=\"search-body\">\",\n",
      "                    \"<div id=\"search_filters\" class=\"search-filters\">\",\n",
      "                      \"<div id=\"limit_results\"></div>\",\n",
      "                      \"<div id=\"filter_btns\"></div>\",\n",
      "                      \"<div id=\"filter_values_list\"></div>\",\n",
      "                    \"</div>\",\n",
      "                    \"<div id=\"search_results\" class=\"search-results\"></div>\",\n",
      "                  \"</div>\"\n"
     ]
    }
   ],
   "source": [
    "#convert the text to array elements to put inside the configuration file\n",
    "#copy and paste the printed text inside the config file\n",
    "\n",
    "#convert_to_conf(\"query_doi_search.txt\")\n",
    "convert_to_conf(\"query-test.txt\")\n",
    "#convert_to_conf(\"query_orcid_search.txt\")"
   ]
  },
  {
   "cell_type": "code",
   "execution_count": 1,
   "metadata": {
    "collapsed": true
   },
   "outputs": [],
   "source": [
    "#reverse conversion\n",
    "\n",
    "arr_str = [\n",
    "    \"SELECT ?author_iri ?short_iri ?orcid ?author (COUNT(?doc) AS ?num_docs) WHERE {\",\n",
    "            \"BIND('[[VAR]]' as ?short_iri) .\",\n",
    "            \"BIND(<https://w3id.org/oc/corpus[[VAR]]> as ?author_iri) .\",\n",
    "\n",
    "            \"?author_iri rdfs:label ?label .\",\n",
    "            \"OPTIONAL {\",\n",
    "                    \"?author_iri foaf:familyName ?fname .\",\n",
    "                    \"?author_iri foaf:givenName ?name .\",\n",
    "                    \"BIND(CONCAT(STR(?name),' ', STR(?fname)) as ?author) .\",\n",
    "             \"}\",\n",
    "             \"\",\n",
    "             \"OPTIONAL {\",\n",
    "                  \"?role pro:isHeldBy ?author_iri .\",\n",
    "                  \"?role pro:isHeldBy ?author_iri .\",\n",
    "                  \"?doc pro:isDocumentContextFor ?role.\",\n",
    "             \"}\",\n",
    "        \"}GROUP BY ?author_iri ?short_iri ?orcid ?author\"\n",
    "]\n"
   ]
  },
  {
   "cell_type": "code",
   "execution_count": 2,
   "metadata": {
    "collapsed": false
   },
   "outputs": [
    {
     "name": "stdout",
     "output_type": "stream",
     "text": [
      "SELECT ?author_iri ?short_iri ?orcid ?author (COUNT(?doc) AS ?num_docs) WHERE {\n",
      "BIND('[[VAR]]' as ?short_iri) .\n",
      "BIND(<https://w3id.org/oc/corpus[[VAR]]> as ?author_iri) .\n",
      "?author_iri rdfs:label ?label .\n",
      "OPTIONAL {\n",
      "?author_iri foaf:familyName ?fname .\n",
      "?author_iri foaf:givenName ?name .\n",
      "BIND(CONCAT(STR(?name),' ', STR(?fname)) as ?author) .\n",
      "}\n",
      "\n",
      "OPTIONAL {\n",
      "?role pro:isHeldBy ?author_iri .\n",
      "?role pro:isHeldBy ?author_iri .\n",
      "?doc pro:isDocumentContextFor ?role.\n",
      "}\n",
      "}GROUP BY ?author_iri ?short_iri ?orcid ?author\n"
     ]
    }
   ],
   "source": [
    "for entry in arr_str:\n",
    "    entry = entry.replace('\"', '')\n",
    "    print entry"
   ]
  },
  {
   "cell_type": "code",
   "execution_count": null,
   "metadata": {
    "collapsed": true
   },
   "outputs": [],
   "source": []
  }
 ],
 "metadata": {
  "anaconda-cloud": {},
  "kernelspec": {
   "display_name": "Python [conda env:py27]",
   "language": "python",
   "name": "conda-env-py27-py"
  },
  "language_info": {
   "codemirror_mode": {
    "name": "ipython",
    "version": 2
   },
   "file_extension": ".py",
   "mimetype": "text/x-python",
   "name": "python",
   "nbconvert_exporter": "python",
   "pygments_lexer": "ipython2",
   "version": "2.7.12"
  }
 },
 "nbformat": 4,
 "nbformat_minor": 2
}
