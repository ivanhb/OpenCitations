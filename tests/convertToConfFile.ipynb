{
 "cells": [
  {
   "cell_type": "code",
   "execution_count": 2,
   "metadata": {
    "collapsed": false
   },
   "outputs": [],
   "source": [
    "def convert_to_conf(file_path):\n",
    "    file = open(file_path, \"r\") \n",
    "    arr_lines = file.readlines() \n",
    "\n",
    "    separator = \",\"\n",
    "    i=0\n",
    "    for line in arr_lines:\n",
    "        line = line.rstrip()\n",
    "\n",
    "        if(i == len(arr_lines) - 1):\n",
    "            separator = \"\"\n",
    "        pre_white = ' ' * (len(line) - len(line.lstrip()))\n",
    "        print pre_white+'\"'+line.lstrip()+'\"'+separator\n",
    "        i= i + 1"
   ]
  },
  {
   "cell_type": "code",
   "execution_count": 9,
   "metadata": {
    "collapsed": false
   },
   "outputs": [
    {
     "name": "stdout",
     "output_type": "stream",
     "text": [
      "\"SELECT DISTINCT ?doc ?doi ?title ?year ?author ?author_iri (COUNT(distinct ?cited) AS ?num_cited)\",\n",
      "\"WHERE  {\",\n",
      "  \"?lit bds:search 'ESMO-ESGO-ESTRO' .\",\n",
      "  \"?lit bds:matchAllTerms 'true' .\",\n",
      "  \"?lit bds:relevance ?score .\",\n",
      "  \"?lit bds:minRelevance '0.4' .\",\n",
      "  \"?lit bds:maxRank '300' .\",\n",
      "\"\",\n",
      "  \"{\",\n",
      "    \"?entry c4o:hasContent ?lit .\",\n",
      "    \"?entry biro:references ?iri .\",\n",
      "  \"}\",\n",
      "  \"UNION\",\n",
      "  \"{?iri dcterms:title  ?lit }\",\n",
      "  \"UNION\",\n",
      "  \"{?iri fabio:hasSubtitle ?lit}\",\n",
      "  \"UNION\",\n",
      "  \"{\",\n",
      "    \"?myra foaf:familyName ?lit .\",\n",
      " \"?role pro:isHeldBy ?myra .\",\n",
      " \"?iri pro:isDocumentContextFor ?role .\",\n",
      "  \"}\",\n",
      "  \".\",\n",
      "\"\",\n",
      "  \"OPTIONAL {\",\n",
      "    \"?iri rdf:type ?type .\",\n",
      "    \"BIND(?iri as ?doc) .\",\n",
      "    \"OPTIONAL {?doc dcterms:title  ?title .}\",\n",
      "    \"OPTIONAL {?doc fabio:hasSubtitle  ?subtitle .}\",\n",
      "    \"OPTIONAL {?doc fabio:hasPublicationYear ?year .}\",\n",
      "    \"OPTIONAL {?doc cito:cites ?cited .}\",\n",
      "    \"OPTIONAL {\",\n",
      "     \"?iri datacite:hasIdentifier [\",\n",
      "      \"datacite:usesIdentifierScheme datacite:doi ;\",\n",
      "   \"literal:hasLiteralValue ?doi\",\n",
      "       \"]\",\n",
      "   \"}\",\n",
      "\"\",\n",
      "   \"OPTIONAL {\",\n",
      "         \"?iri pro:isDocumentContextFor [\",\n",
      "             \"pro:withRole pro:author ;\",\n",
      "             \"pro:isHeldBy ?author_iri\",\n",
      "         \"].\",\n",
      "         \"?author_iri foaf:familyName ?fname .\",\n",
      "         \"?author_iri foaf:givenName ?name .\",\n",
      "         \"BIND(CONCAT(STR(?name),' ', STR(?fname)) as ?author) .\",\n",
      "   \"}\",\n",
      "  \"}\",\n",
      "\"}GROUP BY ?doc ?doi ?title ?year ?author ?author_iri\"\n"
     ]
    }
   ],
   "source": [
    "#convert the text to array elements to put inside the configuration file\n",
    "#copy and paste the printed text inside the config file\n",
    "\n",
    "#convert_to_conf(\"query_doi_search.txt\")\n",
    "convert_to_conf(\"query_any_text_search(planB).txt\")\n",
    "#convert_to_conf(\"query_orcid_search.txt\")"
   ]
  },
  {
   "cell_type": "code",
   "execution_count": 3,
   "metadata": {
    "collapsed": true
   },
   "outputs": [],
   "source": [
    "#reverse conversion\n",
    "\n",
    "arr_str = [\n",
    "    \"SELECT ?my_iri ?id_lit ?type ?short_type ?label ?title ?subtitle ?year ?author_iri ?author (COUNT(distinct ?cites) AS ?out_cits) (COUNT(distinct ?cited_by) AS ?in_cits) WHERE {\",\n",
    "               \"BIND(<VAR> as ?my_iri) .\",\n",
    "               \"?my_iri rdfs:label ?label .\",\n",
    "               \"?my_iri rdf:type ?type .\",\n",
    "               \"BIND(REPLACE(STR(?type), 'http://purl.org/spar/fabio/', '', 'i') as ?short_type) .\",\n",
    "               \"OPTIONAL {?my_iri dcterms:title ?title .}\",\n",
    "               \"OPTIONAL {?my_iri fabio:hasSubtitle ?subtitle .}\",\n",
    "               \"OPTIONAL {?my_iri fabio:hasPublicationYear ?year .}\",\n",
    "               \"OPTIONAL {?my_iri cito:cites ?cites .}\",\n",
    "               \"OPTIONAL {?cited_by cito:cites ?my_iri .}\",\n",
    "                 \"OPTIONAL {\",\n",
    "                    \"?my_iri datacite:hasIdentifier [\",\n",
    "                    \"datacite:usesIdentifierScheme datacite:doi ;\",\n",
    "                 \"literal:hasLiteralValue ?id_lit\",\n",
    "                      \"]\",\n",
    "                 \"}\",\n",
    "                 \"OPTIONAL {\",\n",
    "                        \"?my_iri pro:isDocumentContextFor [\",\n",
    "                            \"pro:withRole pro:author ;\",\n",
    "                            \"pro:isHeldBy ?author_iri\",\n",
    "                        \"].\",\n",
    "                        \"?author_iri foaf:familyName ?fname .\",\n",
    "                        \"?author_iri foaf:givenName ?name .\",\n",
    "                        \"BIND(CONCAT(STR(?name),' ', STR(?fname)) as ?author) .\",\n",
    "                 \"}\",\n",
    "          \"} GROUP BY ?my_iri ?id_lit ?type ?short_type ?label ?title ?subtitle ?year ?author_iri ?author\"\n",
    "]\n"
   ]
  },
  {
   "cell_type": "code",
   "execution_count": 4,
   "metadata": {
    "collapsed": false
   },
   "outputs": [
    {
     "name": "stdout",
     "output_type": "stream",
     "text": [
      "SELECT ?my_iri ?id_lit ?type ?short_type ?label ?title ?subtitle ?year ?author_iri ?author (COUNT(distinct ?cites) AS ?out_cits) (COUNT(distinct ?cited_by) AS ?in_cits) WHERE {\n",
      "BIND(<VAR> as ?my_iri) .\n",
      "?my_iri rdfs:label ?label .\n",
      "?my_iri rdf:type ?type .\n",
      "BIND(REPLACE(STR(?type), 'http://purl.org/spar/fabio/', '', 'i') as ?short_type) .\n",
      "OPTIONAL {?my_iri dcterms:title ?title .}\n",
      "OPTIONAL {?my_iri fabio:hasSubtitle ?subtitle .}\n",
      "OPTIONAL {?my_iri fabio:hasPublicationYear ?year .}\n",
      "OPTIONAL {?my_iri cito:cites ?cites .}\n",
      "OPTIONAL {?cited_by cito:cites ?my_iri .}\n",
      "OPTIONAL {\n",
      "?my_iri datacite:hasIdentifier [\n",
      "datacite:usesIdentifierScheme datacite:doi ;\n",
      "literal:hasLiteralValue ?id_lit\n",
      "]\n",
      "}\n",
      "OPTIONAL {\n",
      "?my_iri pro:isDocumentContextFor [\n",
      "pro:withRole pro:author ;\n",
      "pro:isHeldBy ?author_iri\n",
      "].\n",
      "?author_iri foaf:familyName ?fname .\n",
      "?author_iri foaf:givenName ?name .\n",
      "BIND(CONCAT(STR(?name),' ', STR(?fname)) as ?author) .\n",
      "}\n",
      "} GROUP BY ?my_iri ?id_lit ?type ?short_type ?label ?title ?subtitle ?year ?author_iri ?author\n"
     ]
    }
   ],
   "source": [
    "for entry in arr_str:\n",
    "    entry = entry.replace('\"', '')\n",
    "    print entry"
   ]
  },
  {
   "cell_type": "code",
   "execution_count": null,
   "metadata": {
    "collapsed": true
   },
   "outputs": [],
   "source": []
  }
 ],
 "metadata": {
  "anaconda-cloud": {},
  "kernelspec": {
   "display_name": "Python [conda env:py27]",
   "language": "python",
   "name": "conda-env-py27-py"
  },
  "language_info": {
   "codemirror_mode": {
    "name": "ipython",
    "version": 2
   },
   "file_extension": ".py",
   "mimetype": "text/x-python",
   "name": "python",
   "nbconvert_exporter": "python",
   "pygments_lexer": "ipython2",
   "version": "2.7.12"
  }
 },
 "nbformat": 4,
 "nbformat_minor": 2
}
