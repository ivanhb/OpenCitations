{
 "cells": [
  {
   "cell_type": "code",
   "execution_count": 1,
   "metadata": {
    "collapsed": false
   },
   "outputs": [],
   "source": [
    "def convert_to_conf(file_path):\n",
    "    file = open(file_path, \"r\") \n",
    "    arr_lines = file.readlines() \n",
    "\n",
    "    separator = \",\"\n",
    "    i=0\n",
    "    for line in arr_lines:\n",
    "        line = line.rstrip()\n",
    "\n",
    "        if(i == len(arr_lines) - 1):\n",
    "            separator = \"\"\n",
    "        pre_white = ' ' * (len(line) - len(line.lstrip()))\n",
    "        print pre_white+'\"'+line.lstrip()+'\"'+separator\n",
    "        i= i + 1"
   ]
  },
  {
   "cell_type": "code",
   "execution_count": 2,
   "metadata": {
    "collapsed": false
   },
   "outputs": [
    {
     "name": "stdout",
     "output_type": "stream",
     "text": [
      "\"\"SELECT DISTINCT ?iri ?short_iri ?doi ?title ?year ?score ?author ?author_iri (COUNT(distinct ?cited) AS ?out_cits) (COUNT(distinct ?cited_by) AS ?in_cits)\",\",\n",
      "            \"\"WHERE  {\",\",\n",
      "              \"\"BIND('[[VAR]]' as ?free_txt) .\",\",\n",
      "              \"\"?lit bds:search ?free_txt .\",\",\n",
      "              \"\"?lit bds:matchAllTerms 'true' .\",\",\n",
      "              \"\"?lit bds:relevance ?score .\",\",\n",
      "              \"\"?lit bds:minRelevance '0.2' .\",\",\n",
      "              \"\"?lit bds:maxRank '300' .\",\",\n",
      "            \"\"\",\",\n",
      "              \"\"{\",\",\n",
      "                \"\"?entry c4o:hasContent ?lit .\",\",\n",
      "                \"\"?entry biro:references ?iri .\",\",\n",
      "              \"\"}\",\",\n",
      "              \"\"UNION\",\",\n",
      "              \"\"{?iri dcterms:title  ?lit }\",\",\n",
      "              \"\"UNION\",\",\n",
      "              \"\"{?iri fabio:hasSubtitle ?lit}\",\",\n",
      "              \"\"UNION\",\",\n",
      "              \"\"{\",\",\n",
      "                \"\"?myra foaf:familyName ?lit .\",\",\n",
      "             \"\"?role pro:isHeldBy ?myra .\",\",\n",
      "             \"\"?iri pro:isDocumentContextFor ?role .\",\",\n",
      "              \"\"}\",\",\n",
      "              \"\".\",\",\n",
      "            \"\"\",\",\n",
      "              \"\"OPTIONAL {\",\",\n",
      "                \"\"?iri rdf:type ?type .\",\",\n",
      "                \"\"BIND(REPLACE(STR(?iri), 'https://w3id.org/oc/corpus', '', 'i') as ?short_iri) .\",\",\n",
      "                \"\"OPTIONAL {?iri dcterms:title  ?title .}\",\",\n",
      "                \"\"OPTIONAL {?iri fabio:hasSubtitle  ?subtitle .}\",\",\n",
      "                \"\"OPTIONAL {?iri fabio:hasPublicationYear ?year .}\",\",\n",
      "                \"\"OPTIONAL {?iri cito:cites ?cited .}\",\",\n",
      "                \"\"OPTIONAL {?cited_by cito:cites ?iri .}\",\",\n",
      "                \"\"OPTIONAL {\",\",\n",
      "                 \"\"?iri datacite:hasIdentifier [\",\",\n",
      "                  \"\"datacite:usesIdentifierScheme datacite:doi ;\",\",\n",
      "               \"\"literal:hasLiteralValue ?doi\",\",\n",
      "                   \"\"]\",\",\n",
      "               \"\"}\",\",\n",
      "            \"\"\",\",\n",
      "               \"\"OPTIONAL {\",\",\n",
      "                     \"\"?iri pro:isDocumentContextFor [\",\",\n",
      "                         \"\"pro:withRole pro:author ;\",\",\n",
      "                         \"\"pro:isHeldBy ?author_iri\",\",\n",
      "                     \"\"].\",\",\n",
      "                     \"\"?author_iri foaf:familyName ?fname .\",\",\n",
      "                     \"\"?author_iri foaf:givenName ?name .\",\",\n",
      "                     \"\"BIND(CONCAT(STR(?name),' ', STR(?fname)) as ?author) .\",\",\n",
      "               \"\"}\",\",\n",
      "              \"\"}\",\",\n",
      "\"\"}GROUP BY ?iri ?short_iri ?doi ?title ?year ?score ?author ?author_iri\"\"\n"
     ]
    }
   ],
   "source": [
    "#convert the text to array elements to put inside the configuration file\n",
    "#copy and paste the printed text inside the config file\n",
    "\n",
    "#convert_to_conf(\"query_doi_search.txt\")\n",
    "convert_to_conf(\"query-test.txt\")\n",
    "#convert_to_conf(\"query_orcid_search.txt\")"
   ]
  },
  {
   "cell_type": "code",
   "execution_count": 3,
   "metadata": {
    "collapsed": true
   },
   "outputs": [],
   "source": [
    "#reverse conversion\n",
    "\n",
    "arr_str = [\n",
    "    \"SELECT DISTINCT ?iri ?short_iri ?doi ?title ?year ?score ?author ?author_iri (COUNT(distinct ?cited) AS ?out_cits) (COUNT(distinct ?cited_by) AS ?in_cits)\",\n",
    "            \"WHERE  {\",\n",
    "              \"BIND('[[VAR]]' as ?free_txt) .\",\n",
    "              \"?lit bds:search ?free_txt .\",\n",
    "              \"?lit bds:matchAllTerms 'true' .\",\n",
    "              \"?lit bds:relevance ?score .\",\n",
    "              \"?lit bds:minRelevance '0.2' .\",\n",
    "              \"?lit bds:maxRank '300' .\",\n",
    "            \"\",\n",
    "              \"{\",\n",
    "                \"?entry c4o:hasContent ?lit .\",\n",
    "                \"?entry biro:references ?iri .\",\n",
    "              \"}\",\n",
    "              \"UNION\",\n",
    "              \"{?iri dcterms:title  ?lit }\",\n",
    "              \"UNION\",\n",
    "              \"{?iri fabio:hasSubtitle ?lit}\",\n",
    "              \"UNION\",\n",
    "              \"{\",\n",
    "                \"?myra foaf:familyName ?lit .\",\n",
    "             \"?role pro:isHeldBy ?myra .\",\n",
    "             \"?iri pro:isDocumentContextFor ?role .\",\n",
    "              \"}\",\n",
    "              \".\",\n",
    "            \"\",\n",
    "              \"OPTIONAL {\",\n",
    "                \"?iri rdf:type ?type .\",\n",
    "                \"BIND(REPLACE(STR(?iri), 'https://w3id.org/oc/corpus', '', 'i') as ?short_iri) .\",\n",
    "                \"OPTIONAL {?iri dcterms:title  ?title .}\",\n",
    "                \"OPTIONAL {?iri fabio:hasSubtitle  ?subtitle .}\",\n",
    "                \"OPTIONAL {?iri fabio:hasPublicationYear ?year .}\",\n",
    "                \"OPTIONAL {?iri cito:cites ?cited .}\",\n",
    "                \"OPTIONAL {?cited_by cito:cites ?iri .}\",\n",
    "                \"OPTIONAL {\",\n",
    "                 \"?iri datacite:hasIdentifier [\",\n",
    "                  \"datacite:usesIdentifierScheme datacite:doi ;\",\n",
    "               \"literal:hasLiteralValue ?doi\",\n",
    "                   \"]\",\n",
    "               \"}\",\n",
    "            \"\",\n",
    "               \"OPTIONAL {\",\n",
    "                     \"?iri pro:isDocumentContextFor [\",\n",
    "                         \"pro:withRole pro:author ;\",\n",
    "                         \"pro:isHeldBy ?author_iri\",\n",
    "                     \"].\",\n",
    "                     \"?author_iri foaf:familyName ?fname .\",\n",
    "                     \"?author_iri foaf:givenName ?name .\",\n",
    "                     \"BIND(CONCAT(STR(?name),' ', STR(?fname)) as ?author) .\",\n",
    "               \"}\",\n",
    "              \"}\",\n",
    "    \"}GROUP BY ?iri ?short_iri ?doi ?title ?year ?score ?author ?author_iri\"\n",
    "]\n"
   ]
  },
  {
   "cell_type": "code",
   "execution_count": 4,
   "metadata": {
    "collapsed": false
   },
   "outputs": [
    {
     "name": "stdout",
     "output_type": "stream",
     "text": [
      "SELECT DISTINCT ?iri ?short_iri ?doi ?title ?year ?score ?author ?author_iri (COUNT(distinct ?cited) AS ?out_cits) (COUNT(distinct ?cited_by) AS ?in_cits)\n",
      "WHERE  {\n",
      "BIND('[[VAR]]' as ?free_txt) .\n",
      "?lit bds:search ?free_txt .\n",
      "?lit bds:matchAllTerms 'true' .\n",
      "?lit bds:relevance ?score .\n",
      "?lit bds:minRelevance '0.2' .\n",
      "?lit bds:maxRank '300' .\n",
      "\n",
      "{\n",
      "?entry c4o:hasContent ?lit .\n",
      "?entry biro:references ?iri .\n",
      "}\n",
      "UNION\n",
      "{?iri dcterms:title  ?lit }\n",
      "UNION\n",
      "{?iri fabio:hasSubtitle ?lit}\n",
      "UNION\n",
      "{\n",
      "?myra foaf:familyName ?lit .\n",
      "?role pro:isHeldBy ?myra .\n",
      "?iri pro:isDocumentContextFor ?role .\n",
      "}\n",
      ".\n",
      "\n",
      "OPTIONAL {\n",
      "?iri rdf:type ?type .\n",
      "BIND(REPLACE(STR(?iri), 'https://w3id.org/oc/corpus', '', 'i') as ?short_iri) .\n",
      "OPTIONAL {?iri dcterms:title  ?title .}\n",
      "OPTIONAL {?iri fabio:hasSubtitle  ?subtitle .}\n",
      "OPTIONAL {?iri fabio:hasPublicationYear ?year .}\n",
      "OPTIONAL {?iri cito:cites ?cited .}\n",
      "OPTIONAL {?cited_by cito:cites ?iri .}\n",
      "OPTIONAL {\n",
      "?iri datacite:hasIdentifier [\n",
      "datacite:usesIdentifierScheme datacite:doi ;\n",
      "literal:hasLiteralValue ?doi\n",
      "]\n",
      "}\n",
      "\n",
      "OPTIONAL {\n",
      "?iri pro:isDocumentContextFor [\n",
      "pro:withRole pro:author ;\n",
      "pro:isHeldBy ?author_iri\n",
      "].\n",
      "?author_iri foaf:familyName ?fname .\n",
      "?author_iri foaf:givenName ?name .\n",
      "BIND(CONCAT(STR(?name),' ', STR(?fname)) as ?author) .\n",
      "}\n",
      "}\n",
      "}GROUP BY ?iri ?short_iri ?doi ?title ?year ?score ?author ?author_iri\n"
     ]
    }
   ],
   "source": [
    "for entry in arr_str:\n",
    "    entry = entry.replace('\"', '')\n",
    "    print entry"
   ]
  },
  {
   "cell_type": "code",
   "execution_count": null,
   "metadata": {
    "collapsed": true
   },
   "outputs": [],
   "source": []
  }
 ],
 "metadata": {
  "anaconda-cloud": {},
  "kernelspec": {
   "display_name": "Python [conda env:py27]",
   "language": "python",
   "name": "conda-env-py27-py"
  },
  "language_info": {
   "codemirror_mode": {
    "name": "ipython",
    "version": 2
   },
   "file_extension": ".py",
   "mimetype": "text/x-python",
   "name": "python",
   "nbconvert_exporter": "python",
   "pygments_lexer": "ipython2",
   "version": "2.7.12"
  }
 },
 "nbformat": 4,
 "nbformat_minor": 2
}
