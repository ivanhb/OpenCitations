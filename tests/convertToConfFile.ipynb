{
 "cells": [
  {
   "cell_type": "code",
   "execution_count": 2,
   "metadata": {
    "collapsed": false
   },
   "outputs": [],
   "source": [
    "def convert_to_conf(file_path):\n",
    "    file = open(file_path, \"r\") \n",
    "    arr_lines = file.readlines() \n",
    "\n",
    "    separator = \",\"\n",
    "    i=0\n",
    "    for line in arr_lines:\n",
    "        line = line.rstrip()\n",
    "\n",
    "        if(i == len(arr_lines) - 1):\n",
    "            separator = \"\"\n",
    "        pre_white = ' ' * (len(line) - len(line.lstrip()))\n",
    "        print pre_white+'\"'+line.lstrip()+'\"'+separator\n",
    "        i= i + 1"
   ]
  },
  {
   "cell_type": "code",
   "execution_count": 7,
   "metadata": {
    "collapsed": false
   },
   "outputs": [
    {
     "name": "stdout",
     "output_type": "stream",
     "text": [
      "\"SELECT DISTINCT ?doc ?doi ?title ?year ?author ?author_iri (COUNT(distinct ?cited) AS ?num_cited)\",\n",
      "\"WHERE  {\",\n",
      "  \"?lit bds:search 'ESMO-ESGO-ESTRO' .\",\n",
      "  \"?lit bds:matchAllTerms 'true' .\",\n",
      "  \"?lit bds:relevance ?score .\",\n",
      "  \"{?iri dcterms:title  ?lit } UNION {?iri fabio:hasSubtitle ?lit} UNION {?iri foaf:familyName ?lit} .\",\n",
      "\"\",\n",
      "  \"OPTIONAL {\",\n",
      "    \"?iri rdf:type ?type .\",\n",
      "    \"BIND(?iri as ?doc) .\",\n",
      "    \"OPTIONAL {?doc dcterms:title  ?title .}\",\n",
      "    \"OPTIONAL {?doc fabio:hasSubtitle  ?subtitle .}\",\n",
      "    \"OPTIONAL {?doc fabio:hasPublicationYear ?year .}\",\n",
      "    \"OPTIONAL {?doc cito:cites ?cited .}\",\n",
      "    \"OPTIONAL {\",\n",
      "     \"?iri datacite:hasIdentifier [\",\n",
      "      \"datacite:usesIdentifierScheme datacite:doi ;\",\n",
      "   \"literal:hasLiteralValue ?doi\",\n",
      "       \"]\",\n",
      "   \"}\",\n",
      "\"\",\n",
      "   \"OPTIONAL {\",\n",
      "         \"?iri pro:isDocumentContextFor [\",\n",
      "             \"pro:withRole pro:author ;\",\n",
      "             \"pro:isHeldBy ?author_iri\",\n",
      "         \"].\",\n",
      "         \"?author_iri foaf:familyName ?fname .\",\n",
      "         \"?author_iri foaf:givenName ?name .\",\n",
      "         \"BIND(CONCAT(STR(?name),' ', STR(?fname)) as ?author) .\",\n",
      "   \"}\",\n",
      "\"\",\n",
      "    \"FILTER regex(str(?iri), '^https://w3id.org/oc/corpus/br/')\",\n",
      "  \"}\",\n",
      "\"\",\n",
      "  \"OPTIONAL {\",\n",
      "    \"?iri rdf:type ?type .\",\n",
      " \"OPTIONAL{\",\n",
      "      \"?role pro:isHeldBy ?iri .\",\n",
      "      \"?doc pro:isDocumentContextFor ?role .\",\n",
      "      \"OPTIONAL {?doc dcterms:title ?title .}\",\n",
      "      \"OPTIONAL {?doc fabio:hasSubtitle ?subtitle .}\",\n",
      "      \"OPTIONAL {?doc fabio:hasPublicationYear ?year .}\",\n",
      "      \"OPTIONAL {?doc cito:cites ?cited .}\",\n",
      "      \"OPTIONAL {\",\n",
      "          \"?doc datacite:hasIdentifier [\",\n",
      "              \"datacite:usesIdentifierScheme datacite:doi ;\",\n",
      "              \"literal:hasLiteralValue ?doi\",\n",
      "          \"]\",\n",
      "      \"}\",\n",
      "\"\",\n",
      "      \"OPTIONAL {\",\n",
      "           \"?doc pro:isDocumentContextFor [\",\n",
      "               \"pro:withRole pro:author ;\",\n",
      "               \"pro:isHeldBy ?author_iri\",\n",
      "           \"].\",\n",
      "           \"?author_iri foaf:familyName ?fname .\",\n",
      "           \"?author_iri foaf:givenName ?name .\",\n",
      "           \"BIND(CONCAT(STR(?name),' ', STR(?fname)) as ?author) .\",\n",
      "      \"}\",\n",
      "    \"}\",\n",
      "    \"FILTER regex(str(?iri), '^https://w3id.org/oc/corpus/ra/')\",\n",
      "  \"}\",\n",
      "\"}GROUP BY ?doc ?doi ?title ?year ?author ?author_iri\"\n"
     ]
    }
   ],
   "source": [
    "#convert the text to array elements to put inside the configuration file\n",
    "#copy and paste the printed text inside the config file\n",
    "\n",
    "#convert_to_conf(\"query_doi_search.txt\")\n",
    "convert_to_conf(\"query_any_text_search.txt\")\n",
    "#convert_to_conf(\"query_orcid_search.txt\")"
   ]
  },
  {
   "cell_type": "code",
   "execution_count": null,
   "metadata": {
    "collapsed": true
   },
   "outputs": [],
   "source": []
  }
 ],
 "metadata": {
  "anaconda-cloud": {},
  "kernelspec": {
   "display_name": "Python [conda env:py27]",
   "language": "python",
   "name": "conda-env-py27-py"
  }
 },
 "nbformat": 4,
 "nbformat_minor": 2
}
