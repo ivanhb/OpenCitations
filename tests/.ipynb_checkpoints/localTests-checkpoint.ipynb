{
 "cells": [
  {
   "cell_type": "code",
   "execution_count": 4,
   "metadata": {
    "collapsed": true
   },
   "outputs": [],
   "source": [
    "import json\n",
    "import rdflib"
   ]
  },
  {
   "cell_type": "code",
   "execution_count": 6,
   "metadata": {
    "collapsed": false
   },
   "outputs": [
    {
     "name": "stdout",
     "output_type": "stream",
     "text": [
      "{u'@context': u'https://w3id.org/oc/corpus/context.json', u'@graph': [{u'a': [u'document', u'article'], u'part_of': u'http://localhost:8000/corpus/br/2', u'subtitle': u'Diagnosis, Treatment and Follow-up', u'reference': [u'http://localhost:8000/corpus/be/1', u'http://localhost:8000/corpus/be/2'], u'format': u'http://localhost:8000/corpus/re/1', u'citation': [u'http://localhost:8000/corpus/br/9', u'http://localhost:8000/corpus/br/5'], u'label': u'bibliographic resource 1 [br/1]', u'iri': u'http://localhost:8000/corpus/br/1', u'year': u'2016', u'contributor': [u'http://localhost:8000/corpus/ar/11', u'http://localhost:8000/corpus/ar/3', u'http://localhost:8000/corpus/ar/8', u'http://localhost:8000/corpus/ar/4', u'http://localhost:8000/corpus/ar/2', u'http://localhost:8000/corpus/ar/12', u'http://localhost:8000/corpus/ar/5', u'http://localhost:8000/corpus/ar/7', u'http://localhost:8000/corpus/ar/1', u'http://localhost:8000/corpus/ar/9', u'http://localhost:8000/corpus/ar/6', u'http://localhost:8000/corpus/ar/10'], u'title': u'ESMO-ESGO-ESTRO Consensus Conference on Endometrial Cancer', u'identifier': [u'http://localhost:8000/corpus/id/7', u'http://localhost:8000/corpus/id/1', u'http://localhost:8000/corpus/id/3', u'http://localhost:8000/corpus/id/6']}, {u'a': [u'periodical_journal', u'document'], u'iri': u'http://localhost:8000/corpus/br/3', u'identifier': u'http://localhost:8000/corpus/id/5', u'label': u'bibliographic resource 3 [br/3]', u'title': u'International Journal of Gynecological Cancer'}, {u'a': [u'periodical_issue', u'document'], u'iri': u'http://localhost:8000/corpus/br/2', u'part_of': u'http://localhost:8000/corpus/br/4', u'number': u'1', u'label': u'bibliographic resource 2 [br/2]'}], u'iri': u'http://localhost:8000/corpus/br/'}\n",
      "[a rdflib:ConjunctiveGraph;rdflib:storage [a rdflib:Store;rdfs:label 'IOMemory']]\n",
      "[a rdflib:ConjunctiveGraph;rdflib:storage [a rdflib:Store;rdfs:label 'IOMemory']]\n"
     ]
    }
   ],
   "source": [
    "\n",
    "with open(\"/Users/ivanHeyB/OC-Local/tests/corpus/br/6/3.json\") as f:\n",
    "    json_ld_file = json.load(f)\n",
    "    print json_ld_file\n",
    "\n",
    "    #A ConjunctiveGraph is an (unnamed) aggregation of all the named graphs in a store.\n",
    "    current_graph = rdflib.ConjunctiveGraph()\n",
    "    \n",
    "    current_graph.parse(data=json.dumps(json_ld_file), format=\"json-ld\")\n",
    "    print current_graph"
   ]
  },
  {
   "cell_type": "code",
   "execution_count": null,
   "metadata": {
    "collapsed": true
   },
   "outputs": [],
   "source": []
  },
  {
   "cell_type": "code",
   "execution_count": null,
   "metadata": {
    "collapsed": true
   },
   "outputs": [],
   "source": []
  }
 ],
 "metadata": {
  "anaconda-cloud": {},
  "kernelspec": {
   "display_name": "Python [conda env:py27]",
   "language": "python",
   "name": "conda-env-py27-py"
  },
  "language_info": {
   "codemirror_mode": {
    "name": "ipython",
    "version": 2
   },
   "file_extension": ".py",
   "mimetype": "text/x-python",
   "name": "python",
   "nbconvert_exporter": "python",
   "pygments_lexer": "ipython2",
   "version": "2.7.12"
  }
 },
 "nbformat": 4,
 "nbformat_minor": 2
}
