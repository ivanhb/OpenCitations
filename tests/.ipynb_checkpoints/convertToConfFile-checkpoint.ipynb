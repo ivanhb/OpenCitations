{
 "cells": [
  {
   "cell_type": "code",
   "execution_count": 26,
   "metadata": {
    "collapsed": false
   },
   "outputs": [],
   "source": [
    "def convert_to_conf(file_path):\n",
    "    file = open(file_path, \"r\") \n",
    "    arr_lines = file.readlines() \n",
    "\n",
    "    separator = \",\"\n",
    "    i=0\n",
    "    for line in arr_lines:\n",
    "        line = line.rstrip()\n",
    "\n",
    "        if(i == len(arr_lines) - 1):\n",
    "            separator = \"\"\n",
    "        pre_white = ' ' * (len(line) - len(line.lstrip()))\n",
    "        print pre_white+'\"'+line.lstrip()+'\"'+separator\n",
    "        i= i + 1"
   ]
  },
  {
   "cell_type": "code",
   "execution_count": 29,
   "metadata": {
    "collapsed": false
   },
   "outputs": [
    {
     "name": "stdout",
     "output_type": "stream",
     "text": [
      "\"SELECT ?my_iri ?id_lit ?type ?label ?title ?subtitle ?year ?author_iri ?author (COUNT(?cited) AS ?num_cited) WHERE {\",\n",
      " \"BIND(<https://w3id.org/oc/corpus/br/1> as ?my_iri) .\",\n",
      " \"?my_iri rdfs:label ?label .\",\n",
      " \"?my_iri rdf:type ?type .\",\n",
      " \"OPTIONAL {?my_iri dcterms:title ?title .}\",\n",
      " \"OPTIONAL {?my_iri fabio:hasSubtitle ?subtitle .}\",\n",
      " \"OPTIONAL {?my_iri fabio:hasPublicationYear ?year .}\",\n",
      " \"OPTIONAL {?my_iri cito:cites ?cited .}\",\n",
      "   \"OPTIONAL {\",\n",
      "      \"?my_iri datacite:hasIdentifier [\",\n",
      "      \"datacite:usesIdentifierScheme datacite:doi ;\",\n",
      "   \"literal:hasLiteralValue ?id_lit\",\n",
      "        \"]\",\n",
      "   \"}\",\n",
      "   \"OPTIONAL {\",\n",
      "          \"?my_iri pro:isDocumentContextFor [\",\n",
      "              \"pro:withRole pro:author ;\",\n",
      "              \"pro:isHeldBy ?author_iri\",\n",
      "          \"].\",\n",
      "          \"?author_iri foaf:familyName ?fname .\",\n",
      "          \"?author_iri foaf:givenName ?name .\",\n",
      "          \"BIND(CONCAT(STR(?name),' ', STR(?fname)) as ?author) .\",\n",
      "   \"}\",\n",
      "\"} GROUP BY ?my_iri ?id_lit ?type ?label ?title ?subtitle ?year ?author_iri ?author\"\n"
     ]
    }
   ],
   "source": [
    "#convert the text to array elements to put inside the configuration file\n",
    "convert_to_conf(\"query_doc_browser.txt\")"
   ]
  },
  {
   "cell_type": "code",
   "execution_count": null,
   "metadata": {
    "collapsed": true
   },
   "outputs": [],
   "source": []
  }
 ],
 "metadata": {
  "anaconda-cloud": {},
  "kernelspec": {
   "display_name": "Python [conda env:py27]",
   "language": "python",
   "name": "conda-env-py27-py"
  },
  "language_info": {
   "codemirror_mode": {
    "name": "ipython",
    "version": 2
   },
   "file_extension": ".py",
   "mimetype": "text/x-python",
   "name": "python",
   "nbconvert_exporter": "python",
   "pygments_lexer": "ipython2",
   "version": "2.7.12"
  }
 },
 "nbformat": 4,
 "nbformat_minor": 2
}
