{
 "cells": [
  {
   "cell_type": "code",
   "execution_count": 26,
   "metadata": {
    "collapsed": false
   },
   "outputs": [],
   "source": [
    "def convert_to_conf(file_path):\n",
    "    file = open(file_path, \"r\") \n",
    "    arr_lines = file.readlines() \n",
    "\n",
    "    separator = \",\"\n",
    "    i=0\n",
    "    for line in arr_lines:\n",
    "        line = line.rstrip()\n",
    "\n",
    "        if(i == len(arr_lines) - 1):\n",
    "            separator = \"\"\n",
    "        pre_white = ' ' * (len(line) - len(line.lstrip()))\n",
    "        print pre_white+'\"'+line.lstrip()+'\"'+separator\n",
    "        i= i + 1"
   ]
  },
  {
   "cell_type": "code",
   "execution_count": 30,
   "metadata": {
    "collapsed": false
   },
   "outputs": [
    {
     "name": "stdout",
     "output_type": "stream",
     "text": [
      "\"SELECT DISTINCT ?doc ?title ?year ?author ?author_iri (COUNT(?cited) AS ?num_cited) where {\",\n",
      "   \"?lit bds:search <VAR> . ?lit bds:matchAllTerms 'true' . ?lit bds:relevance ?score .\",\n",
      " \"?doc datacite:hasIdentifier/literal:hasLiteralValue ?lit .\",\n",
      " \"OPTIONAL {\",\n",
      "     \"?doc dcterms:title ?title .\",\n",
      "     \"?doc fabio:hasSubtitle ?subtitle .\",\n",
      "     \"?doc fabio:hasPublicationYear ?year .\",\n",
      "  \"?doc cito:cites ?cited .\",\n",
      "   \"}\",\n",
      "\"\",\n",
      "   \"OPTIONAL {\",\n",
      "          \"?doc pro:isDocumentContextFor [\",\n",
      "              \"pro:withRole pro:author ;\",\n",
      "              \"pro:isHeldBy ?author_iri\",\n",
      "          \"].\",\n",
      "          \"?author_iri foaf:familyName ?fname .\",\n",
      "          \"?author_iri foaf:givenName ?name .\",\n",
      "          \"BIND(CONCAT(STR(?name),' ', STR(?fname)) as ?author) .\",\n",
      "   \"}\",\n",
      "\"} GROUP BY ?doc ?title ?year ?author ?author_iri\"\n"
     ]
    }
   ],
   "source": [
    "#convert the text to array elements to put inside the configuration file\n",
    "#copy and paste the printed text inside the config file\n",
    "\n",
    "#convert_to_conf(\"query_doi_search.txt\")\n",
    "#convert_to_conf(\"query_any_text_search.txt\")\n",
    "#convert_to_conf(\"query_orcid_search.txt\")"
   ]
  },
  {
   "cell_type": "code",
   "execution_count": null,
   "metadata": {
    "collapsed": true
   },
   "outputs": [],
   "source": []
  }
 ],
 "metadata": {
  "anaconda-cloud": {},
  "kernelspec": {
   "display_name": "Python [conda env:py27]",
   "language": "python",
   "name": "conda-env-py27-py"
  },
  "language_info": {
   "codemirror_mode": {
    "name": "ipython",
    "version": 2
   },
   "file_extension": ".py",
   "mimetype": "text/x-python",
   "name": "python",
   "nbconvert_exporter": "python",
   "pygments_lexer": "ipython2",
   "version": "2.7.12"
  }
 },
 "nbformat": 4,
 "nbformat_minor": 2
}
