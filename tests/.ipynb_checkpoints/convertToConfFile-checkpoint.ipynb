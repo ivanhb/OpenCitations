{
 "cells": [
  {
   "cell_type": "code",
   "execution_count": 1,
   "metadata": {
    "collapsed": false
   },
   "outputs": [],
   "source": [
    "def convert_to_conf(file_path):\n",
    "    file = open(file_path, \"r\") \n",
    "    arr_lines = file.readlines() \n",
    "\n",
    "    separator = \",\"\n",
    "    i=0\n",
    "    for line in arr_lines:\n",
    "        line = line.rstrip()\n",
    "\n",
    "        if(i == len(arr_lines) - 1):\n",
    "            separator = \"\"\n",
    "        pre_white = ' ' * (len(line) - len(line.lstrip()))\n",
    "        print pre_white+'\"'+line.lstrip()+'\"'+separator\n",
    "        i= i + 1"
   ]
  },
  {
   "cell_type": "code",
   "execution_count": 2,
   "metadata": {
    "collapsed": false
   },
   "outputs": [
    {
     "name": "stdout",
     "output_type": "stream",
     "text": [
      "\"\"SELECT DISTINCT ?iri ?short_iri ?doi ?title ?year ?score ?author ?author_iri (COUNT(distinct ?cited) AS ?out_cits) (COUNT(distinct ?cited_by) AS ?in_cits)\",\",\n",
      "            \"\"WHERE  {\",\",\n",
      "              \"\"BIND('[[VAR]]' as ?free_txt) .\",\",\n",
      "              \"\"?lit bds:search ?free_txt .\",\",\n",
      "              \"\"?lit bds:matchAllTerms 'true' .\",\",\n",
      "              \"\"?lit bds:relevance ?score .\",\",\n",
      "              \"\"?lit bds:minRelevance '0.2' .\",\",\n",
      "              \"\"?lit bds:maxRank '300' .\",\",\n",
      "            \"\"\",\",\n",
      "              \"\"{\",\",\n",
      "                \"\"?entry c4o:hasContent ?lit .\",\",\n",
      "                \"\"?entry biro:references ?iri .\",\",\n",
      "              \"\"}\",\",\n",
      "              \"\"UNION\",\",\n",
      "              \"\"{?iri dcterms:title  ?lit }\",\",\n",
      "              \"\"UNION\",\",\n",
      "              \"\"{?iri fabio:hasSubtitle ?lit}\",\",\n",
      "              \"\"UNION\",\",\n",
      "              \"\"{\",\",\n",
      "                \"\"?myra foaf:familyName ?lit .\",\",\n",
      "             \"\"?role pro:isHeldBy ?myra .\",\",\n",
      "             \"\"?iri pro:isDocumentContextFor ?role .\",\",\n",
      "              \"\"}\",\",\n",
      "              \"\".\",\",\n",
      "            \"\"\",\",\n",
      "              \"\"OPTIONAL {\",\",\n",
      "                \"\"?iri rdf:type ?type .\",\",\n",
      "                \"\"BIND(REPLACE(STR(?iri), 'https://w3id.org/oc/corpus', '', 'i') as ?short_iri) .\",\",\n",
      "                \"\"OPTIONAL {?iri dcterms:title  ?title .}\",\",\n",
      "                \"\"OPTIONAL {?iri fabio:hasSubtitle  ?subtitle .}\",\",\n",
      "                \"\"OPTIONAL {?iri fabio:hasPublicationYear ?year .}\",\",\n",
      "                \"\"OPTIONAL {?iri cito:cites ?cited .}\",\",\n",
      "                \"\"OPTIONAL {?cited_by cito:cites ?iri .}\",\",\n",
      "                \"\"OPTIONAL {\",\",\n",
      "                 \"\"?iri datacite:hasIdentifier [\",\",\n",
      "                  \"\"datacite:usesIdentifierScheme datacite:doi ;\",\",\n",
      "               \"\"literal:hasLiteralValue ?doi\",\",\n",
      "                   \"\"]\",\",\n",
      "               \"\"}\",\",\n",
      "            \"\"\",\",\n",
      "               \"\"OPTIONAL {\",\",\n",
      "                     \"\"?iri pro:isDocumentContextFor [\",\",\n",
      "                         \"\"pro:withRole pro:author ;\",\",\n",
      "                         \"\"pro:isHeldBy ?author_iri\",\",\n",
      "                     \"\"].\",\",\n",
      "                     \"\"?author_iri foaf:familyName ?fname .\",\",\n",
      "                     \"\"?author_iri foaf:givenName ?name .\",\",\n",
      "                     \"\"BIND(CONCAT(STR(?name),' ', STR(?fname)) as ?author) .\",\",\n",
      "               \"\"}\",\",\n",
      "              \"\"}\",\",\n",
      "\"\"}GROUP BY ?iri ?short_iri ?doi ?title ?year ?score ?author ?author_iri\"\"\n"
     ]
    }
   ],
   "source": [
    "#convert the text to array elements to put inside the configuration file\n",
    "#copy and paste the printed text inside the config file\n",
    "\n",
    "#convert_to_conf(\"query_doi_search.txt\")\n",
    "convert_to_conf(\"query-test.txt\")\n",
    "#convert_to_conf(\"query_orcid_search.txt\")"
   ]
  },
  {
   "cell_type": "code",
   "execution_count": 1,
   "metadata": {
    "collapsed": true
   },
   "outputs": [],
   "source": [
    "#reverse conversion\n",
    "\n",
    "arr_str = [\n",
    "    \"select ?work ?title ?venueLabel ?date ?volume ?issue ?pages ?license ?doi ?url ?type where {\",\n",
    "            \"BIND('[[VAR]]' as ?doi_txt) .\",\n",
    "            \"?work wdt:P356 ?doi_txt .\",\n",
    "            \"?work wdt:P1476 ?title .\",\n",
    "            \"optional { ?work wdt:P31 ?type . }\",\n",
    "            \"optional { ?work wdt:P1433 ?venue . }\",\n",
    "            \"optional { ?work wdt:P577 ?date . }\",\n",
    "            \"optional { ?work wdt:P478 ?volume . }\",\n",
    "            \"optional { ?work wdt:P433 ?issue . }\",\n",
    "            \"optional { ?work wdt:P304 ?pages . }\",\n",
    "            \"optional { ?work wdt:P275 ?license_ .\",\n",
    "                        \"?license_ rdfs:label ?license .\",\n",
    "                        \"filter(lang(?license) = 'en') }\",\n",
    "            \"optional { ?work wdt:P356 ?doi . }\",\n",
    "            \"optional { ?work wdt:P953 ?url . }\",\n",
    "            \"service wikibase:label {\",\n",
    "              \"bd:serviceParam wikibase:language 'en,da,no,sv,de,fr,es,ru,jp,ru,zh' . }\",\n",
    "          \"}\"\n",
    "]\n"
   ]
  },
  {
   "cell_type": "code",
   "execution_count": 2,
   "metadata": {
    "collapsed": false
   },
   "outputs": [
    {
     "name": "stdout",
     "output_type": "stream",
     "text": [
      "SELECT DISTINCT ?iri ?short_iri ?doi ?title ?year ?score ?author ?author_iri (COUNT(distinct ?cited) AS ?out_cits) (COUNT(distinct ?cited_by) AS ?in_cits)\n",
      "WHERE  {\n",
      "BIND('[[VAR]]' as ?free_txt) .\n",
      "?lit bds:search ?free_txt .\n",
      "?lit bds:matchAllTerms 'true' .\n",
      "?lit bds:relevance ?score .\n",
      "?lit bds:minRelevance '0.2' .\n",
      "?lit bds:maxRank '300' .\n",
      "?myra foaf:familyName ?lit .\n",
      "?role pro:isHeldBy ?myra .\n",
      "?iri pro:isDocumentContextFor ?role .\n",
      "OPTIONAL {\n",
      "?iri rdf:type ?type .\n",
      "BIND(REPLACE(STR(?iri), 'https://w3id.org/oc/corpus', '', 'i') as ?short_iri) .\n",
      "OPTIONAL {?iri dcterms:title  ?title .}\n",
      "OPTIONAL {?iri fabio:hasSubtitle  ?subtitle .}\n",
      "OPTIONAL {?iri fabio:hasPublicationYear ?year .}\n",
      "OPTIONAL {?iri cito:cites ?cited .}\n",
      "OPTIONAL {?cited_by cito:cites ?iri .}\n",
      "OPTIONAL {\n",
      "?iri datacite:hasIdentifier [\n",
      "datacite:usesIdentifierScheme datacite:doi ;\n",
      "literal:hasLiteralValue ?doi\n",
      "]\n",
      "}\n",
      "\n",
      "OPTIONAL {\n",
      "?iri pro:isDocumentContextFor [\n",
      "pro:withRole pro:author ;\n",
      "pro:isHeldBy ?author_iri\n",
      "].\n",
      "?author_iri foaf:familyName ?fname .\n",
      "?author_iri foaf:givenName ?name .\n",
      "BIND(CONCAT(STR(?name),' ', STR(?fname)) as ?author) .\n",
      "}\n",
      "}\n",
      "}GROUP BY ?iri ?short_iri ?doi ?title ?year ?score ?author ?author_iri \n",
      "ORDER BY DESC(?score)\n"
     ]
    }
   ],
   "source": [
    "for entry in arr_str:\n",
    "    entry = entry.replace('\"', '')\n",
    "    print entry"
   ]
  },
  {
   "cell_type": "code",
   "execution_count": 7,
   "metadata": {
    "collapsed": false
   },
   "outputs": [
    {
     "name": "stdout",
     "output_type": "stream",
     "text": [
      " PREFIX cito:<http://purl.org/spar/cito/> \n",
      "PREFIX dcterms:<http://purl.org/dc/terms/> \n",
      "PREFIX datacite:<http://purl.org/spar/datacite/> \n",
      "PREFIX literal:<http://www.essepuntato.it/2010/06/literalreification/> \n",
      "PREFIX biro:<http://purl.org/spar/biro/> \n",
      "PREFIX frbr:<http://purl.org/vocab/frbr/core#> \n",
      "PREFIX c4o:<http://purl.org/spar/c4o/> \n",
      "PREFIX bds:<http://www.bigdata.com/rdf/search#> \n",
      "PREFIX fabio:<http://purl.org/spar/fabio/> \n",
      "PREFIX pro:<http://purl.org/spar/pro/> \n",
      "PREFIX rdf:<http://www.w3.org/1999/02/22-rdf-syntax-ns#> \n",
      "SELECT DISTINCT ?iri ?short_iri ?doi ?title ?year ?score ?author ?author_iri (COUNT(distinct ?cited) AS ?out_cits) (COUNT(distinct ?cited_by) AS ?in_cits) WHERE \n",
      "{ \n",
      "{ BIND('machine learning' as ?free_txt) . ?lit bds:search ?free_txt . ?lit bds:matchAllTerms 'true' . ?lit bds:relevance ?score . ?lit bds:minRelevance '0.2' . ?lit bds:maxRank '300' . { ?entry c4o:hasContent ?lit . ?entry biro:references ?iri . } UNION {?iri dcterms:title \n",
      "?lit } UNION {?iri fabio:hasSubtitle ?lit} .} UNION { BIND('10.1002/cncr.28414' as ?doi_txt) . ?lit bds:search ?doi_txt . ?lit bds:matchAllTerms 'true' . ?lit bds:relevance ?score . ?lit bds:maxRank '1' . ?iri datacite:hasIdentifier/literal:hasLiteralValue ?lit .} OPTIONAL { ?iri rdf:type ?type . BIND(REPLACE(STR(?iri), 'https://w3id.org/oc/corpus', '', 'i') as ?short_iri) . OPTIONAL {?iri dcterms:title \n",
      "?title .} OPTIONAL {?iri fabio:hasSubtitle \n",
      "?subtitle .} OPTIONAL {?iri fabio:hasPublicationYear ?year .} OPTIONAL {?iri cito:cites ?cited .} OPTIONAL {?cited_by cito:cites ?iri .} OPTIONAL { ?iri datacite:hasIdentifier [ datacite:usesIdentifierScheme datacite:doi ; literal:hasLiteralValue ?doi ] } \n",
      "OPTIONAL { ?iri pro:isDocumentContextFor [ pro:withRole pro:author ; pro:isHeldBy ?author_iri ]. ?author_iri foaf:familyName ?fname . ?author_iri foaf:givenName ?name . BIND(CONCAT(STR(?name),' ', STR(?fname)) as ?author) . } } }GROUP BY ?iri ?short_iri ?doi ?title ?year ?score ?author ?author_iri \n",
      "ORDER BY DESC(?score) \n",
      "LIMIT 2000\n"
     ]
    }
   ],
   "source": [
    "import re\n",
    "\n",
    "#convert 1 line string to SPARQL query\n",
    "str_line = \" PREFIX cito:<http://purl.org/spar/cito/>  PREFIX dcterms:<http://purl.org/dc/terms/>  PREFIX datacite:<http://purl.org/spar/datacite/>  PREFIX literal:<http://www.essepuntato.it/2010/06/literalreification/>  PREFIX biro:<http://purl.org/spar/biro/>  PREFIX frbr:<http://purl.org/vocab/frbr/core#>  PREFIX c4o:<http://purl.org/spar/c4o/>  PREFIX bds:<http://www.bigdata.com/rdf/search#>  PREFIX fabio:<http://purl.org/spar/fabio/>  PREFIX pro:<http://purl.org/spar/pro/>  PREFIX rdf:<http://www.w3.org/1999/02/22-rdf-syntax-ns#>  SELECT DISTINCT ?iri ?short_iri ?doi ?title ?year ?score ?author ?author_iri (COUNT(distinct ?cited) AS ?out_cits) (COUNT(distinct ?cited_by) AS ?in_cits) WHERE  {  { BIND('machine learning' as ?free_txt) . ?lit bds:search ?free_txt . ?lit bds:matchAllTerms 'true' . ?lit bds:relevance ?score . ?lit bds:minRelevance '0.2' . ?lit bds:maxRank '300' . { ?entry c4o:hasContent ?lit . ?entry biro:references ?iri . } UNION {?iri dcterms:title  ?lit } UNION {?iri fabio:hasSubtitle ?lit} .} UNION { BIND('10.1002/cncr.28414' as ?doi_txt) . ?lit bds:search ?doi_txt . ?lit bds:matchAllTerms 'true' . ?lit bds:relevance ?score . ?lit bds:maxRank '1' . ?iri datacite:hasIdentifier/literal:hasLiteralValue ?lit .} OPTIONAL { ?iri rdf:type ?type . BIND(REPLACE(STR(?iri), 'https://w3id.org/oc/corpus', '', 'i') as ?short_iri) . OPTIONAL {?iri dcterms:title  ?title .} OPTIONAL {?iri fabio:hasSubtitle  ?subtitle .} OPTIONAL {?iri fabio:hasPublicationYear ?year .} OPTIONAL {?iri cito:cites ?cited .} OPTIONAL {?cited_by cito:cites ?iri .} OPTIONAL { ?iri datacite:hasIdentifier [ datacite:usesIdentifierScheme datacite:doi ; literal:hasLiteralValue ?doi ] }  OPTIONAL { ?iri pro:isDocumentContextFor [ pro:withRole pro:author ; pro:isHeldBy ?author_iri ]. ?author_iri foaf:familyName ?fname . ?author_iri foaf:givenName ?name . BIND(CONCAT(STR(?name),' ', STR(?fname)) as ?author) . } } }GROUP BY ?iri ?short_iri ?doi ?title ?year ?score ?author ?author_iri  ORDER BY DESC(?score)  LIMIT 2000\"\n",
    "\n",
    "print re.sub('\\s{2,}', ' \\n', str_line)\n",
    "\n",
    "\n"
   ]
  },
  {
   "cell_type": "code",
   "execution_count": null,
   "metadata": {
    "collapsed": true
   },
   "outputs": [],
   "source": []
  }
 ],
 "metadata": {
  "anaconda-cloud": {},
  "kernelspec": {
   "display_name": "Python [conda env:py27]",
   "language": "python",
   "name": "conda-env-py27-py"
  },
  "language_info": {
   "codemirror_mode": {
    "name": "ipython",
    "version": 2
   },
   "file_extension": ".py",
   "mimetype": "text/x-python",
   "name": "python",
   "nbconvert_exporter": "python",
   "pygments_lexer": "ipython2",
   "version": "2.7.12"
  }
 },
 "nbformat": 4,
 "nbformat_minor": 2
}
