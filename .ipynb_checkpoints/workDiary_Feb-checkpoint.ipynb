{
 "cells": [
  {
   "cell_type": "markdown",
   "metadata": {},
   "source": [
    "## Thursday 1/2/2018:\n",
    "I have modified/extended the OSCAR repository documentation, mainly the first readme.md file. In addition, to keep track of all the extensions/modifications to apply to the software, I have listed them all in the Issues sections. Part of this documentation will largely change when the advanced version of OSCAR will take place (soon in the next week hopefully).  \n",
    "I have adjusted other parts of the interface in the advanced layout, and I am trying to integrate also the “And Not” boolean operator as a possible connectors between the different rules.  \n",
    "Together with Silvio decided to stop the usability test of OSCAR and to start analyze the results obtained. I have separated the questionnaires results in different files according to the questionnaire type: sus, background, grounded. [paper/OSCAR/results](paper/OSCAR/results) I have calculated some metrics, including the SUS average result. The final SUS mean is 87 which is considered very high. "
   ]
  },
  {
   "cell_type": "markdown",
   "metadata": {
    "collapsed": true
   },
   "source": [
    "---"
   ]
  },
  {
   "cell_type": "markdown",
   "metadata": {
    "collapsed": true
   },
   "source": [
    "## Friday 2/2/2018:\n",
    "Together with Silvio we have fixed the final issues before finally submitting our paper to [SAVE-SD 2018](https://save-sd.github.io/2018/). In particular, we have corrected/discussed the test results and uploaded the results on [FigShare](https://figshare.com/). \n",
    "\n",
    "[**OSCAR: A customisable tool for free-text search over SPARQL endpoints**](https://essepuntato.github.io/papers/oscar-savesd2018.html)  \n",
    "\n",
    "After, I moved back to developing the advanced search. I have been able to include the “AND NOT” boolean operator as a possible connector between the rules a user can specify. In SPARQL this command is handled through the “MINUS { [[QUERY]] }” statement. Unlike the “FILTER ( !EXIST{ [[QUERY]] })” the “MINUS” operator will remove from the result-set the entries that follow its inner query.  \n",
    "Since We want to make more clear the Wikidata and ScholarlyData integration with OSCAR, I have created a new directory [“example”](https://github.com/ivanhb/OSCAR/tree/master/example) inside [OSCAR git repository](https://github.com/ivanhb/OSCAR) which separately includes each one of these examples with its corresponding .html file: [Wikidata](https://github.com/ivanhb/OSCAR/tree/master/example/wikidata), [ScholarlyData](https://github.com/ivanhb/OSCAR/tree/master/example/scholarlydata)."
   ]
  },
  {
   "cell_type": "markdown",
   "metadata": {
    "collapsed": true
   },
   "source": [
    "---\n",
    "## Monday 5/2/2018:\n",
    "I needed to fix some issues in the OSCAR examples we have in the repository: wikidata, scholarlydata. I did some modifications on the interface and the configuration file of both the examples:\n",
    "* A description with some examples a user can perform to test OSCAR on wikidata and scholarlyData triplestores.\n",
    "* The fields to include in the filter panel. Years and authors must always appear. \n",
    "While testing and trying new queries I have noticed some important facts:\n",
    "* In order to get the list of documents that cite a specific document, wikidata provides the predicate **“wdt:P2860”** which works fine. When applying a “Group By” statement on the query (to count the in-citations) the query get stuck, even if we use the official wikidata sparql endpoint, like in this [example](https://query.wikidata.org/#select%20DISTINCT%20%3Fwork%20%3Ftitle%20%28COUNT%28DISTINCT%20%3Fcited_by%29%20AS%20%3Fin_cits%29%20where%20%7B%0A%3Fwork%20rdfs%3Alabel%20%3Flbl1%20.%0A%3Fwork%20wdt%3AP31%20wd%3AQ13442814.%0AFILTER%20%28langMatches%28%20lang%28%3Flbl1%29%2C%20%27EN%27%20%29%20%29%0AFILTER%28%20regex%28%3Flbl1%2C%20%27semantic%27%20%29%29%0A%3Fwork%20wdt%3AP31%20wd%3AQ13442814.%0Aoptional%20%7B%20%3Fwork%20wdt%3AP1476%20%3Ftitle%20.%7D%0Aoptional%20%7B%20%3Fcited_by%20wdt%3AP2860%20%3Fwork.%7D%0A%7DGROUP%20BY%20%3Fwork%20%3Ftitle).\n",
    "* I have tried to retrieve the actual date of publication for the papers of ScholarlyData. I have not successfully figured out how, and while reading the official documentation of [The Conference Ontology](http://www.scholarlydata.org/ontology/doc/#d4e559) I have not discovered any possible connection between a document and a date (as it also shown in the scheme of the ontology).\n",
    "\n",
    "We have done another DASPLAB meeting. I have explained the strategy we have adopted in the advanced search and the technical aspects/definitions (as I previously wrote about in my workdiary).  \n",
    " "
   ]
  },
  {
   "cell_type": "markdown",
   "metadata": {},
   "source": [
    "---\n",
    "## Tuesday 6/2/2018:\n",
    "I started testing the advanced features and fixed several problems that I found while doing that. The SPARQL queries inside the configuration file must be enclosed in a “{}” and while using the advanced search since it combines different rule queries, it’s important to avoid having similar variable names in different rules. For instance: if I use *?lit bds:search '[[VAR]]' .* inside the query of a specific rule and I try to combine it (for example with “and” connector) with another rule which also uses *?lit*, this will create conflicts in the final SPARQL query to execute.  \n",
    "\n",
    "An additional step I am trying to accomplish is to create a “GET” request to the “search” page also from the advanced section. In this case after a user finishes defining the advanced query and clicks on the “Search” button, a “GET” request will be called on the same “Search” page with the parameters of the query. For instance: **search?text=10.1371%2Fjournal.pgen.1004754&rule=doi&bc_1=and&text=machine+learning&rule=any_text** . The main javascript method “do_sparql_query()” will parse it and execute the corresponding SPARQL query."
   ]
  },
  {
   "cell_type": "markdown",
   "metadata": {},
   "source": [
    "---\n",
    "## Wednesday 7/2/2018: \n",
    "I have tested the advanced search operations and fixed some others small issues. Some notable modifications I made are:\n",
    "* The rule “any-text” now refers only to titles and subtitles (other rules will handle different inputs)\n",
    "* Integration of new rules for the “authors” category in the advanced search: author name, author last name and ORCID.\n",
    "* New parameters inside the configuration file to handle other aspects of OSCAR interface. eg: “def_results_limit” to specify the percentage of results to initially set.\n",
    "* A new attribute inside the “rule” definition will specify whether this rule should be used in the advanced search, the free text search, or both.   "
   ]
  },
  {
   "cell_type": "markdown",
   "metadata": {
    "collapsed": true
   },
   "source": [
    "---\n",
    "## Thursday 8/2/2018:\n",
    "I have readapted the code for a better comprehensive form, as a result from the integration of the new parts of the advanced search. I moved on, fixing some issues related to the advanced search behavior and the previous OSCAR issues we already noticed, also with the help of David. Some notable modifications/integrations I have made:\n",
    "* Re-designed the slide bar which limits the total number of results in the table.  \n",
    "* When selecting with the pointer the search box all the inner text will automatically be selected.\n",
    "* I have figured out a way to show the filter operations applied to the results. A dynamic list will show a history of all the filter operations made, see the above image.\n",
    "\n",
    "<img src=\"img/new-filter-sec.png\" style=\"display: inline-block; height: 330px; width: 220px;\"/>\n"
   ]
  },
  {
   "cell_type": "markdown",
   "metadata": {},
   "source": [
    "Starting from tomorrow I will get back working on the browser: LUCINDA."
   ]
  },
  {
   "cell_type": "markdown",
   "metadata": {
    "collapsed": true
   },
   "source": [
    "---\n",
    "## Friday 9/2/2018:\n",
    "Other minor issues in the advanced search have been fixed. In addition I have made other neccesary stylistic adaptions to OSCAR interface, specially after the integrations I have made yesterday. The logo at the footer of the page now appears regularly, as it’s supposed to be. Then I did other tests to look out for other problems.  \n",
    "An interesting issue we have in sparql arises when trying to match an exact literal value. In this case sparql wants the exact value in order to have effect, and its case-sensitive. e.g: ‘Heibi’ and ‘heibi’ are two different literals. Together with Silvio we have elaborated a solution that might consider the use of heuristics, which could be adapted to the variables (literals).  \n",
    "At the end of the day I started looking back on the browser code (LUCINDA) and the last applications we have made."
   ]
  },
  {
   "cell_type": "markdown",
   "metadata": {
    "collapsed": true
   },
   "source": [
    "---\n",
    "## Monday 12/2/2018:\n",
    "Since LUCINDA integrates also the OSCAR features when searching for an author works. I needed to adjust LUCINDA for the new version of OSCAR with the advanced features, and adapt graphically its components inside LUCINDA. Along with this, also the internal code of LUCINDA needed some adjustments.   \n",
    "For the authors we will have in the “Metric section” the number of in-citations made by others on the author works along with the number of different documents that have done that.  \n",
    "I am trying to integrate a switch button which will be used in order to get the representation of the resource in two different interfaces: LUCINDA, and the already used one by OpenCitations. I will continue developing this part tomorrow and hopefully finish it. "
   ]
  },
  {
   "cell_type": "code",
   "execution_count": null,
   "metadata": {
    "collapsed": true
   },
   "outputs": [],
   "source": []
  }
 ],
 "metadata": {
  "anaconda-cloud": {},
  "kernelspec": {
   "display_name": "Python 3",
   "language": "python",
   "name": "python3"
  },
  "language_info": {
   "codemirror_mode": {
    "name": "ipython",
    "version": 3
   },
   "file_extension": ".py",
   "mimetype": "text/x-python",
   "name": "python",
   "nbconvert_exporter": "python",
   "pygments_lexer": "ipython3",
   "version": "3.6.3"
  }
 },
 "nbformat": 4,
 "nbformat_minor": 2
}
