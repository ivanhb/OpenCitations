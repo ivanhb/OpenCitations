{
 "cells": [
  {
   "cell_type": "markdown",
   "metadata": {},
   "source": [
    "## Thursday 1/2/2018:\n",
    "I have modified/extended the OSCAR repository documentation, mainly the first readme.md file. In addition, to keep track of all the extensions/modifications to apply to the software, I have listed them all in the Issues sections. Part of this documentation will largely change when the advanced version of OSCAR will take place (soon in the next week hopefully).  \n",
    "I have adjusted other parts of the interface in the advanced layout, and I am trying to integrate also the “And Not” boolean operator as a possible connectors between the different rules.  \n",
    "Together with Silvio decided to stop the usability test of OSCAR and to start analyze the results obtained. I have separated the questionnaires results in different files according to the questionnaire type: sus, background, grounded. [paper/OSCAR/results](paper/OSCAR/results) I have calculated some metrics, including the SUS average result. The final SUS mean is 87 which is considered very high. "
   ]
  },
  {
   "cell_type": "markdown",
   "metadata": {
    "collapsed": true
   },
   "source": [
    "---"
   ]
  },
  {
   "cell_type": "markdown",
   "metadata": {
    "collapsed": true
   },
   "source": [
    "## Friday 2/2/2018:\n",
    "Together with Silvio we have fixed the final issues before finally submitting our paper to [SAVE-SD 2018](https://save-sd.github.io/2018/). In particular, we have corrected/discussed the test results and uploaded the results on [FigShare](https://figshare.com/). \n",
    "\n",
    "[**OSCAR: A customisable tool for free-text search over SPARQL endpoints**](https://essepuntato.github.io/papers/oscar-savesd2018.html)  \n",
    "\n",
    "After, I moved back to developing the advanced search. I have been able to include the “AND NOT” boolean operator as a possible connector between the rules a user can specify. In SPARQL this command is handled through the “MINUS { [[QUERY]] }” statement. Unlike the “FILTER ( !EXIST{ [[QUERY]] })” the “MINUS” operator will remove from the result-set the entries that follow its inner query.  \n",
    "Since We want to make more clear the Wikidata and ScholarlyData integration with OSCAR, I have created a new directory [“example”](https://github.com/ivanhb/OSCAR/tree/master/example) inside [OSCAR git repository](https://github.com/ivanhb/OSCAR) which separately includes each one of these examples with its corresponding .html file: [Wikidata](https://github.com/ivanhb/OSCAR/tree/master/example/wikidata), [ScholarlyData](https://github.com/ivanhb/OSCAR/tree/master/example/scholarlydata)."
   ]
  },
  {
   "cell_type": "markdown",
   "metadata": {
    "collapsed": true
   },
   "source": [
    "---\n",
    "## Monday 5/2/2018:\n",
    "I needed to fix some issues in the OSCAR examples we have in the repository: wikidata, scholarlydata. I did some modifications on the interface and the configuration file of both the examples:\n",
    "* A description with some examples a user can perform to test OSCAR on wikidata and scholarlyData triplestores.\n",
    "* The fields to include in the filter panel. Years and authors must always appear. \n",
    "While testing and trying new queries I have noticed some important facts:\n",
    "* In order to get the list of documents that cite a specific document, wikidata provides the predicate **“wdt:P2860”** which works fine. When applying a “Group By” statement on the query (to count the in-citations) the query get stuck, even if we use the official wikidata sparql endpoint, like in this [example](https://query.wikidata.org/#select%20DISTINCT%20%3Fwork%20%3Ftitle%20%28COUNT%28DISTINCT%20%3Fcited_by%29%20AS%20%3Fin_cits%29%20where%20%7B%0A%3Fwork%20rdfs%3Alabel%20%3Flbl1%20.%0A%3Fwork%20wdt%3AP31%20wd%3AQ13442814.%0AFILTER%20%28langMatches%28%20lang%28%3Flbl1%29%2C%20%27EN%27%20%29%20%29%0AFILTER%28%20regex%28%3Flbl1%2C%20%27semantic%27%20%29%29%0A%3Fwork%20wdt%3AP31%20wd%3AQ13442814.%0Aoptional%20%7B%20%3Fwork%20wdt%3AP1476%20%3Ftitle%20.%7D%0Aoptional%20%7B%20%3Fcited_by%20wdt%3AP2860%20%3Fwork.%7D%0A%7DGROUP%20BY%20%3Fwork%20%3Ftitle).\n",
    "* I have tried to retrieve the actual date of publication for the papers of ScholarlyData. I have not successfully figured out how, and while reading the official documentation of [The Conference Ontology](http://www.scholarlydata.org/ontology/doc/#d4e559) I have not discovered any possible connection between a document and a date (as it also shown in the scheme of the ontology).\n",
    "\n",
    "We have done another DASPLAB meeting. I have explained the strategy we have adopted in the advanced search and the technical aspects/definitions (as I previously wrote about in my workdiary).  \n",
    " "
   ]
  },
  {
   "cell_type": "markdown",
   "metadata": {},
   "source": [
    "---\n",
    "## Tuesday 6/2/2018:\n",
    "I started testing the advanced features and fixed several problems that I found while doing that. The SPARQL queries inside the configuration file must be enclosed in a “{}” and while using the advanced search since it combines different rule queries, it’s important to avoid having similar variable names in different rules. For instance: if I use *?lit bds:search '[[VAR]]' .* inside the query of a specific rule and I try to combine it (for example with “and” connector) with another rule which also uses *?lit*, this will create conflicts in the final SPARQL query to execute.  \n",
    "\n",
    "An additional step I am trying to accomplish is to create a “GET” request to the “search” page also from the advanced section. In this case after a user finishes defining the advanced query and clicks on the “Search” button, a “GET” request will be called on the same “Search” page with the parameters of the query. For instance: **search?text=10.1371%2Fjournal.pgen.1004754&rule=doi&bc_1=and&text=machine+learning&rule=any_text** . The main javascript method “do_sparql_query()” will parse it and execute the corresponding SPARQL query."
   ]
  },
  {
   "cell_type": "markdown",
   "metadata": {},
   "source": [
    "---\n",
    "## Wednesday 7/2/2018: \n",
    "I have tested the advanced search operations and fixed some others small issues. Some notable modifications I made are:\n",
    "* The rule “any-text” now refers only to titles and subtitles (other rules will handle different inputs)\n",
    "* Integration of new rules for the “authors” category in the advanced search: author name, author last name and ORCID.\n",
    "* New parameters inside the configuration file to handle other aspects of OSCAR interface. eg: “def_results_limit” to specify the percentage of results to initially set.\n",
    "* A new attribute inside the “rule” definition will specify whether this rule should be used in the advanced search, the free text search, or both.   "
   ]
  },
  {
   "cell_type": "markdown",
   "metadata": {
    "collapsed": true
   },
   "source": [
    "---\n",
    "## Thursday 8/2/2018:\n",
    "I have readapted the code for a better comprehensive form, as a result from the integration of the new parts of the advanced search. I moved on, fixing some issues related to the advanced search behavior and the previous OSCAR issues we already noticed, also with the help of David. Some notable modifications/integrations I have made:\n",
    "* Re-designed the slide bar which limits the total number of results in the table.  \n",
    "* When selecting with the pointer the search box all the inner text will automatically be selected.\n",
    "* I have figured out a way to show the filter operations applied to the results. A dynamic list will show a history of all the filter operations made, see the above image.\n",
    "\n",
    "<img src=\"img/new-filter-sec.png\" style=\"display: inline-block; height: 330px; width: 220px;\"/>\n"
   ]
  },
  {
   "cell_type": "markdown",
   "metadata": {},
   "source": [
    "Starting from tomorrow I will get back working on the browser: LUCINDA."
   ]
  },
  {
   "cell_type": "markdown",
   "metadata": {
    "collapsed": true
   },
   "source": [
    "---\n",
    "## Friday 9/2/2018:\n",
    "Other minor issues in the advanced search have been fixed. In addition I have made other neccesary stylistic adaptions to OSCAR interface, specially after the integrations I have made yesterday. The logo at the footer of the page now appears regularly, as it’s supposed to be. Then I did other tests to look out for other problems.  \n",
    "An interesting issue we have in sparql arises when trying to match an exact literal value. In this case sparql wants the exact value in order to have effect, and its case-sensitive. e.g: ‘Heibi’ and ‘heibi’ are two different literals. Together with Silvio we have elaborated a solution that might consider the use of heuristics, which could be adapted to the variables (literals).  \n",
    "At the end of the day I started looking back on the browser code (LUCINDA) and the last applications we have made."
   ]
  },
  {
   "cell_type": "markdown",
   "metadata": {
    "collapsed": true
   },
   "source": [
    "---\n",
    "## Monday 12/2/2018:\n",
    "Since LUCINDA integrates also the OSCAR features when searching for an author works. I needed to adjust LUCINDA for the new version of OSCAR with the advanced features, and adapt graphically its components inside LUCINDA. Along with this, also the internal code of LUCINDA needed some adjustments.   \n",
    "For the authors we will have in the “Metric section” the number of in-citations made by others on the author works along with the number of different documents that have done that.  \n",
    "I am trying to integrate a switch button which will be used in order to get the representation of the resource in two different interfaces: LUCINDA, and the already used one by OpenCitations. I will continue developing this part tomorrow and hopefully finish it. "
   ]
  },
  {
   "cell_type": "markdown",
   "metadata": {},
   "source": [
    "---\n",
    "## Tuesday 13/2/2018:\n",
    "I have made some new additions on LUCIDA which made me think of new adjustments needed on OSCAR side:\n",
    "* The switch button: this will let us move from LUCINDA browser to the old resources view. In order to do that we need to add a component of LUCINDA inside the ldd.html page (the switch menu button). We will be able to do this by adding only the html part of LUCINDA we want inside ldd.html: "
   ]
  },
  {
   "cell_type": "code",
   "execution_count": null,
   "metadata": {
    "collapsed": true
   },
   "outputs": [],
   "source": [
    "    <div id=\"browser\" class=\"browser\">\n",
    "      <div id=\"browser_extra\" class=\"browser-extra\">\n",
    "        <div id=\"browser_view_switch\"></div>\n",
    "      </div>\n",
    "    </div>"
   ]
  },
  {
   "cell_type": "markdown",
   "metadata": {
    "collapsed": true
   },
   "source": [
    "* LUCINDA uses OSCAR but in some LUCINDA would like to modify some properties of OSCAR (from the config file). I have developed a method that will handle that through calling OSCAR along with the parameters LUCINDA would like to change from it. For example: not showing the loading progress panel on searching.\n",
    "A screenshot of LUCINDA:"
   ]
  },
  {
   "cell_type": "markdown",
   "metadata": {},
   "source": [
    "<img src=\"img/lucinda-switch.png\" style=\"display: inline-block; height: 420px; width: 720px;\"/>"
   ]
  },
  {
   "cell_type": "markdown",
   "metadata": {
    "collapsed": true
   },
   "source": [
    "---\n",
    "## Wednesday 14/2/2018:\n",
    "After some adjustments on the code I have finally migrate LUCINDA and OSCAR to the new [OpenCitation git repository](https://github.com/opencitations/).  \n",
    "The .html page inside the LUCINDA repository can tests its features successfully (like the main .html file of OSCAR). Along with the code adjustments, I have built two visual schemes that explains graphically the configuration files of both [OSCAR](img/oscar_conf.svg) and [LUCINDA](img/lucinda_conf.svg). The two schemes are very large and they represent a visual map of the configuration file structure in order to make it hopefully easier to understand.  \n",
    "I am planning on writing a textual documentation also explaining all config definitions, but since I am still modifying the inner code, I will do that once we have a more stable versions."
   ]
  },
  {
   "cell_type": "markdown",
   "metadata": {
    "collapsed": true
   },
   "source": [
    "---\n",
    "## Thursday 15/2/2018:\n",
    "I am preparing a much more detailed tutorial on how to configure and use OSCAR and LUCINDA.  \n",
    "Together with Silvio we have reviewed both the advanced search of OSCAR and LUCINDA. Almost everything looks fine but we noticed a little issue: since LUCINDA switch from the traditional ldd view to the lucinda browser we need to allow this only for authors and documents. I have successfully managed to handle this situation and right now LUCINDA have the correct behavior.  \n",
    "Next we have discussed about the new OCI project and working steps on its realization.\n",
    "We made our weekly DASPLAB recap, and we have discussed several interesting things. In fact it might be possible that OSCAR and LUCINDA will be used also in the SCAR project.   \n",
    "I have continued my day fixing OSCARs and LUCINDAs issues we noticed."
   ]
  },
  {
   "cell_type": "markdown",
   "metadata": {
    "collapsed": true
   },
   "source": [
    "---\n",
    "## Friday 17/2/2018:\n",
    "I have done some new integrations in OSCAR and LUCINDA, the main modifications are:\n",
    "* The integration of the table of OSCAR in LUCINDA have much more features: users can now build multiple OSCAR tables which are selectable from a navigation menu inside LUCINDA. LUCINDA will also remember and save the results in order to don’t call the SPARQL endpoint each time a nav button is selected.\n",
    "* I have fixed the position of the LUCINDA-LDD switch menu, specially in the ldd.html file.\n",
    "* The progress loader is more customizable than before. Users through the configuration file can define each part of it (title, subtitle, links…)  \n",
    "* In LUCINDA we have the oppurtunity to handle the labels text for different fields in case we have NONE values.\n",
    "<img src=\"img/none-vals-lucinda.png\" style=\"display: inline-block; height: 180px; width: 320px;\"/>\n",
    "\n",
    "I still have to fix some minor issues, and I will send a list to Silvio with all the adaptions to apply on the opencitations website in order to upload this new versions."
   ]
  },
  {
   "cell_type": "markdown",
   "metadata": {
    "collapsed": true
   },
   "source": [
    "<img src=\"img/lucinda-oscar-nav.png\" style=\"display: inline-block; height: 420px; width: 820px;\"/>"
   ]
  },
  {
   "cell_type": "markdown",
   "metadata": {
    "collapsed": true
   },
   "source": [
    "---\n",
    "## Monday 19/2/2018:\n",
    "Together with Silvio we discussed the new COCI project we are willing on. We have defined the general roadmap we need to follow to successfully accomplish our goal.  \n",
    "I have started reading the crossref api documentation and studying the type of requests supported. We will first make our tests on a smaller data dump of CrossRef. We will move on a larger scale once we have all the data and we are sure the scripts work fine."
   ]
  },
  {
   "cell_type": "markdown",
   "metadata": {},
   "source": [
    "---\n",
    "## Tuesday 20/2/2018:\n",
    "I have started writing the [crossref_process.py](https://github.com/opencitations/coci/blob/master/crossref_process.ipynb) to handle all the crossref api calls and generate the final csv files. I am using the python3 version. The main methods I have written are:"
   ]
  },
  {
   "cell_type": "code",
   "execution_count": null,
   "metadata": {
    "collapsed": true
   },
   "outputs": [],
   "source": [
    "#call crossref with the corresponding crossref_api[query_type] and the query_text \n",
    "def get_data(query_text, is_json = True, query_type = \"free_text\"):"
   ]
  },
  {
   "cell_type": "code",
   "execution_count": null,
   "metadata": {
    "collapsed": true
   },
   "outputs": [],
   "source": [
    "#generate the publication-date of a given crossref work object, returns -1 if there is no publication-date in it\n",
    "def generate_pubdate(obj):"
   ]
  },
  {
   "cell_type": "code",
   "execution_count": null,
   "metadata": {
    "collapsed": true
   },
   "outputs": [],
   "source": [
    "# given a textual input (query_txt), call crossref and retrieves the work object of \n",
    "# the best scoring result in case the score is higher than MIN_SCORE\n",
    "def find_work(query_txt):"
   ]
  },
  {
   "cell_type": "code",
   "execution_count": null,
   "metadata": {
    "collapsed": true
   },
   "outputs": [],
   "source": [
    "#build a bib citation with all the available info inside the reference object \n",
    "def build_bibc(obj):"
   ]
  },
  {
   "cell_type": "markdown",
   "metadata": {},
   "source": [
    "All the above methods should be used by a main method:"
   ]
  },
  {
   "cell_type": "code",
   "execution_count": null,
   "metadata": {
    "collapsed": true
   },
   "outputs": [],
   "source": [
    "#given a crossref object get all the COCI data needed and generate the csv files\n",
    "def process_cr_obj(obj):"
   ]
  },
  {
   "cell_type": "markdown",
   "metadata": {},
   "source": [
    "I have made some tests to check these functions. All the implementation code is on the [opencitations/coci repository](https://github.com/opencitations/coci/blob/master/crossref_process.ipynb)."
   ]
  },
  {
   "cell_type": "code",
   "execution_count": null,
   "metadata": {
    "collapsed": true
   },
   "outputs": [],
   "source": []
  }
 ],
 "metadata": {
  "anaconda-cloud": {},
  "kernelspec": {
   "display_name": "Python [default]",
   "language": "python",
   "name": "python3"
  },
  "language_info": {
   "codemirror_mode": {
    "name": "ipython",
    "version": 3
   },
   "file_extension": ".py",
   "mimetype": "text/x-python",
   "name": "python",
   "nbconvert_exporter": "python",
   "pygments_lexer": "ipython3",
   "version": "3.5.2"
  }
 },
 "nbformat": 4,
 "nbformat_minor": 2
}
