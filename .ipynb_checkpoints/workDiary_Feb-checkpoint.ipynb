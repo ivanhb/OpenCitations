{
 "cells": [
  {
   "cell_type": "markdown",
   "metadata": {},
   "source": [
    "## Thursday 1/2/2018:\n",
    "I have modified/extended the OSCAR repository documentation, mainly the first readme.md file. In addition, to keep track of all the extensions/modifications to apply to the software, I have listed them all in the Issues sections. Part of this documentation will largely change when the advanced version of OSCAR will take place (soon in the next week hopefully).  \n",
    "I have adjusted other parts of the interface in the advanced layout, and I am trying to integrate also the “And Not” boolean operator as a possible connectors between the different rules.  \n",
    "Together with Silvio decided to stop the usability test of OSCAR and to start analyze the results obtained. I have separated the questionnaires results in different files according to the questionnaire type: sus, background, grounded. [paper/OSCAR/results](paper/OSCAR/results) I have calculated some metrics, including the SUS average result. The final SUS mean is 87 which is considered very high. "
   ]
  },
  {
   "cell_type": "code",
   "execution_count": null,
   "metadata": {
    "collapsed": true
   },
   "outputs": [],
   "source": []
  }
 ],
 "metadata": {
  "anaconda-cloud": {},
  "kernelspec": {
   "display_name": "Python [conda env:py27]",
   "language": "python",
   "name": "conda-env-py27-py"
  },
  "language_info": {
   "codemirror_mode": {
    "name": "ipython",
    "version": 2
   },
   "file_extension": ".py",
   "mimetype": "text/x-python",
   "name": "python",
   "nbconvert_exporter": "python",
   "pygments_lexer": "ipython2",
   "version": "2.7.12"
  }
 },
 "nbformat": 4,
 "nbformat_minor": 2
}
