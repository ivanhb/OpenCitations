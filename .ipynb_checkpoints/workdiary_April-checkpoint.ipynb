{
 "cells": [
  {
   "cell_type": "markdown",
   "metadata": {
    "collapsed": true
   },
   "source": [
    "## Tuesday 3/4/2018:\n",
    "Starting from LUCINDA I continued working and completing the OSCAR calls handler. The generation of the OSCAR menu of LUCINDA works this way:  \n",
    "1) calls all the OSCAR-Call entries we wish to add (defined inside the LUCINDA configuration file under the key categories.[[A_CATEGORY]].oscar). This procedure will work as background while loading all the other labels of the page.  \n",
    "2) in case one of the OSCAR-Calls do not return any result LUCINDA removes it from its list.  \n",
    "3) builds the OSCAR navigation menu under the details section. Clicking on a specific element will not call again OSCAR, instead loads the data already retrieved before.\n",
    "\n",
    "\n",
    "In order to make this behavior possibile, some adaptions to OSCAR have been made:  \n",
    "1) A program that uses OSCAR can decide to call it and let an internal callback function handle the results, and do not procede directly on building the table of results. In this case for instance, the external program can decide to store the results locally and build the table further on another moment (LUCINDA case)  \n",
    "2) An external program that uses OSCAR can specify some modifications to apply on the original configuration file. For instance, to delete an unwanted column on the table, or modify its header title. An example:\n",
    "```\n",
    "var config_mod = [\n",
    "    {\"key\":\"categories.[[name,document]].fields.[[title,Publisher]]\" ,\"value\":\"REMOVE_ENTRY\"},\n",
    "    {\"key\":\"progress_loader.visible\" ,\"value\":false}\n",
    "\t\t\t\t\t];\n",
    "```\n",
    "In the above example this object will be sent to OSCAR when calling it. The first entry means: go to the \"key\" categories, Where 'name' field equals 'document', and the specific field with 'title' equal 'Publisher', and remove such entry -> \"REMOVE_ENTRY\". The Second entry modifies the field 'progress_loader.visible' to the bool value 'false'."
   ]
  },
  {
   "cell_type": "markdown",
   "metadata": {
    "collapsed": true
   },
   "source": [
    "---\n",
    "## Wednesday 4/4/2018:\n",
    "I started the day by testing LUCINDA and OSCAR and adjusting some small issues. After a meeting with Silvio we uploaded online both the new versions of OSCAR and LUCINDA. We have listed together some other new issues that needed to be fixed on the new versions:  \n",
    "1) Create the possibility to set a default ‘Number of Rows’ and ‘Sort Field’ in the table of OSCAR. For instance, we want to set a major number of rows per page when visualizing the number of documents in LUCINDA (30).  \n",
    "2) The links of LUCINDA (like in OSCAR) must open a new tab in the browser when clicked. It is also better to set ‘NONE’ values as ‘UNKNOWN’.  \n",
    "3) The index menu of OSCAR in LUCINDA is not updating correctly the visual aspect of the buttons clicked. There is also an issue related to browsing the page via Firefox.\n",
    "\n",
    "The above issues have been fixed and the repositories updated. \n",
    "\n",
    "There are other aspects that need to be elaborated:  \n",
    "1) When moving from an OSCAR table to another in LUCINDA the current state is not saved. This problem is due to the fact that currently LUCINDA is associated with only one instance of OSCAR configuration file, and I can’t define a separated configuration for each table.   \n",
    "2) The resource id (e.g: “br/14”) does not sort correctly, since OSCAR treat it like a textual input.  \n",
    "3) Some text is not decoded correctly. Still need to figure out the cause for this."
   ]
  },
  {
   "cell_type": "markdown",
   "metadata": {
    "collapsed": true
   },
   "source": [
    "---\n",
    "## Thursday 5/4/2018:\n",
    "I have worked on the second part of the issues I have listed yesterday.  \n",
    "I have been able to let the sort operation be applied also to a hidden value corresponding to the values on a specific column, for instance in the case of the “Resource Id” we would like to treat values in the form of “br/[[N]]” as only numbers [[N]] when applying a sort on the column.   \n",
    "Another important part (which turned out much more complex than expected) is creating a separated OSCAR state for each different table in LUCINDA. I have done significant improvements regard this issue, but still much work on it is needed."
   ]
  },
  {
   "cell_type": "markdown",
   "metadata": {
    "collapsed": true
   },
   "source": [
    "---\n",
    "## Friday 6/4/2018:\n",
    "I have moved back my attention to the COCI project. Together with Silvio we have established the elaboration phases needed, after all the .CSV dumps are ready:\n",
    "1) The creation of all the RDF triples in .NT format.  \n",
    "2) Push the file generated inside a blazegraph triplestore.   \n",
    "3) Link the server to the new SPARQL endpoint of COCI.  \n",
    "4) Define OSCAR and LUCINDA to query the COCI SPARQL endpoint.  \n",
    "\n",
    "Here what I have been able to do today :  \n",
    "1) I have downloaded the .CSV of the directory ’24’ (the process that have finished)  \n",
    "2) After some adjustments on the script that should generate the .NT file, I have launch it on the .CSV dump and created the output file needed.  \n",
    "3) Through blazegraph a new triplestore have been generated using the output file of step (2)  \n",
    "4) I have tested some queries and redefined the OSCAR configuration file accordingly.  \n",
    "5) A new .html page for COCI in the OSCAR example/ directory has been created, and tested locally.  \n",
    "\n",
    "Everything looks fine and work the right way locally."
   ]
  },
  {
   "cell_type": "markdown",
   "metadata": {
    "collapsed": true
   },
   "source": [
    "---\n",
    "## Monday 9/4/2018:\n",
    "Together with Silvio we talked about the last developments I have made on the COCI project. And we have established some new important issues we need to handle:  \n",
    "1) The RDF generator should create the URLs without decoding also the supported characters (eg: “/”)  \n",
    "2) In case of COCI we will have a one single category in the Advanced search, and therefore we will not specify it on the upper index menu. Along with this, the rules that will be selected from the options switch box will display a placeholder in the input box which specifies the type of Input needed. For instance, a rule “References” will display “DOI” as placeholder.  \n",
    "3) We need to enlarge the global date.csv with all the new dates we have received/elaborated while processing the references. This will let us have a very large file representing a map of all the dates (with the most specific detailed date we can have) of every DOI we encountered in our processing.  \n",
    "\n",
    "\n",
    "I have successfully accomplished the first two points:  \n",
    "1) Using “parse.quote” instead of “parse.quote_plus” generated a new dump as expected.  \n",
    "2) I have modified OSCAR, and now for COCI we have a situation that looks like this:   "
   ]
  },
  {
   "cell_type": "markdown",
   "metadata": {},
   "source": [
    "<img src=\"img/coci-oscar.png\" style=\"display: inline-block; height: 420px; width: 820px;\"/>"
   ]
  },
  {
   "cell_type": "markdown",
   "metadata": {
    "collapsed": true
   },
   "source": [
    "---\n",
    "## Tuesday 10/4/2018:\n",
    "I am still working on OSCAR for COCI and I have made important steps today:\n",
    "* I am working on a local copy of the OpenCitation website and I have defined a new rule to handle the SPARQL endpoint of COCI. Such url is defined in the configuration file, and right now points on my local blazegraph triplestore.   \n",
    "* I have made new additions on the COCI configuration file for OSCAR. In addition I have implemented a new feature which permits the application of a function on the values of the table and map it to a new value. (e.g: translate the timespan in a number of days)  \n",
    "* Some fields of the table make external api calls to retrieve the Reference entry for a specific DOI. (Citing and Cited)  \n",
    "* I have changed the HTML page of “COCI in OSCAR” by also adding some clickable examples (like Wikidata and Scholarlydata examples) "
   ]
  },
  {
   "cell_type": "markdown",
   "metadata": {
    "collapsed": true
   },
   "source": [
    "---\n",
    "## Wednesday 11/4/2018:\n",
    "I have modified a bit LUCINDA and made a new configuration file for COCI. Here we have a screenshot of how does it look right now:\n",
    "\n",
    "\n",
    "<img src=\"img/lucinda-coci.png\" style=\"display: inline-block; height: 250px; width: 820px;\"/>\n",
    "\n",
    "\n",
    "Together with Silvio we talked about the OSCAR version of COCI I have built in the previous days, and listed some smaller issues that still need to be fixed.  \n",
    "A cache for the External API calls has been added. This means that once the first element retrieves the results from the GET request these results are applied on all the other elements on the waiting list for the same API call."
   ]
  },
  {
   "cell_type": "markdown",
   "metadata": {
    "collapsed": true
   },
   "source": [
    "---\n",
    "## Thursday 12/4/2018:\n",
    "I have redefined the server with the new url base path “https://w3id.org/oc/index/coci/”. In this case we will have a “sparql”, “search” and “browser” new page for COCI (these names will come right after the base path when defining the url address). These pages have been successfully linked to the new configuration of the server.  \n",
    "Next, I worked on the COCI global dates dictionary generator script. The idea is to recollect all the dates in each subdirectory we have processed and re-populate the global dates index. I have almost finished writing this python script, I still need to fix some issue when choosing the best available date. "
   ]
  },
  {
   "cell_type": "markdown",
   "metadata": {
    "collapsed": true
   },
   "source": [
    "---\n",
    "## Friday 13/4/2018:\n",
    "The script that generates the global index of dates by taking in consideration all the dates retrieved from the COCI processing is now ready and the results are as expected, its behavior could be summarized as follow:\n",
    "\n",
    "1) Takes as input the current global dates index file (generated in the COCI processing), and the Root directory of all the outputs generated by the coci processing phase.  \n",
    "2) iterates all the date values of the coci processing and updates the global date index by adding new entries or updating current entries with a new better corresponding date value. In order to select such date value the script will follow this strategy:   \n",
    "* choose the most detailed one (e.g: 2010-01 > 2010)\n",
    "* in case we have multiple values with same detail level, choose the one with the higher currencies (e.g: 2010(3) > 2009(2))\n",
    "* in case the currencies number are equal, chose the nearest date. (e.g: 2010(2) > 2009(2))  \n",
    "\n",
    "Then I worked on preparing the slides for the SAVE-SD 2018 conference."
   ]
  },
  {
   "cell_type": "markdown",
   "metadata": {
    "collapsed": true
   },
   "source": [
    "---\n",
    "## Monday 16/4/2018:\n",
    "I have started the day working on the [SAVE-SD presentation](https://github.com/ivanhb/OpenCitations/blob/master/paper/oscar_save-sd_2018/SAVE-SD-2018.key) for the OSCAR paper. I have followed some suggested guidelines from Silvio and wrote down a first draft. After, I made another meeting with Silvio and we have together discussed the presentation and what other adaptions should be made. In addition, we made a quick review/recap on the current situation of COCI and the definition of the new webpages inside the OpenCitations website.   \n",
    "I spent the rest of my day working on the presentation and the definition of other parts inside the new OpenCitation website version. "
   ]
  },
  {
   "cell_type": "markdown",
   "metadata": {
    "collapsed": true
   },
   "source": [
    "---\n",
    "## Tuesday 17/4/2018:\n",
    "Dealing and integrating COCI in the OpenCitations website made me think of a new feature I need to add to OSCAR: The possibility to add and define any additional HTML component at top of OSCAR table (in the extra section). For instance, in case of COCI it will be possible to add a “Back to the search menu” that will appear once the COCI table of results has been generated.  \n",
    "I have defined and added other important pages for the COCI project inside the OpenCitations website. As a result the “oc.py” have been modified to handle all the new cases and addresses.   \n",
    "The current situation could be explained through the following screenshots:"
   ]
  },
  {
   "cell_type": "markdown",
   "metadata": {},
   "source": [
    "The first page of the \"index\". This page will show and list all the projects we have worked:\n",
    "\n",
    "<img src=\"img/index.png\" style=\"display: inline-block; height: 320px; width: 820px;\"/>"
   ]
  },
  {
   "cell_type": "markdown",
   "metadata": {},
   "source": [
    "The COCI dedicated page:\n",
    "\n",
    "<img src=\"img/index-coci.png\" style=\"display: inline-block; height: 420px; width: 820px;\"/>"
   ]
  },
  {
   "cell_type": "markdown",
   "metadata": {},
   "source": [
    "The COCI Search page:\n",
    "\n",
    "<img src=\"img/index-searchcoci.png\" style=\"display: inline-block; height: 420px; width: 820px;\"/>"
   ]
  },
  {
   "cell_type": "markdown",
   "metadata": {},
   "source": [
    "The SPARQL editor page dedicated to COCI. Note that in this case the default title, sparql endpoint, default inner sparql query, is set accordingly (in case of OCC it goes back to the previous default situation): \n",
    "\n",
    "<img src=\"img/index-cocisparql.png\" style=\"display: inline-block; height: 420px; width: 820px;\"/>"
   ]
  },
  {
   "cell_type": "markdown",
   "metadata": {
    "collapsed": true
   },
   "source": [
    "---\n",
    "## Wednesday 18/4/2018:\n",
    "I have worked on the server “oc.py” module to make it flexible for future new services we might integrate (e.g: /index/woci). Note that all these modifications are made locally right now, on a clone of the opencitation/website repository. I will make a pull request on the original opencitations/website repository once me and Silvio see that everything look fine and as aspected.  \n",
    "Other aspects of OSCAR and LUCINDA for COCI have been adjusted from their respective configuration files, along with the html pages that will display them.  \n",
    "Finally, I moved back to the SAVE-SD OSCAR presentation to another review and make sure I have mentioned all the important points of OSCAR."
   ]
  },
  {
   "cell_type": "code",
   "execution_count": null,
   "metadata": {
    "collapsed": true
   },
   "outputs": [],
   "source": []
  }
 ],
 "metadata": {
  "kernelspec": {
   "display_name": "Python 3",
   "language": "python",
   "name": "python3"
  },
  "language_info": {
   "codemirror_mode": {
    "name": "ipython",
    "version": 3
   },
   "file_extension": ".py",
   "mimetype": "text/x-python",
   "name": "python",
   "nbconvert_exporter": "python",
   "pygments_lexer": "ipython3",
   "version": "3.6.3"
  }
 },
 "nbformat": 4,
 "nbformat_minor": 2
}
