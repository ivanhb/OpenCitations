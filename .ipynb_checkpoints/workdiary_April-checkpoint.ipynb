{
 "cells": [
  {
   "cell_type": "markdown",
   "metadata": {
    "collapsed": true
   },
   "source": [
    "## Tuesday 3/4/2018:\n",
    "Starting from LUCINDA I continued working and completing the OSCAR calls handler. The generation of the OSCAR menu of LUCINDA works this way:  \n",
    "1) calls all the OSCAR-Call entries we wish to add (defined inside the LUCINDA configuration file under the key categories.[[A_CATEGORY]].oscar). This procedure will work as background while loading all the other labels of the page.  \n",
    "2) in case one of the OSCAR-Calls do not return any result LUCINDA removes it from its list.  \n",
    "3) builds the OSCAR navigation menu under the details section. Clicking on a specific element will not call again OSCAR, instead loads the data already retrieved before.\n",
    "\n",
    "\n",
    "In order to make this behavior possibile, some adaptions to OSCAR have been made:  \n",
    "1) A program that uses OSCAR can decide to call it and let an internal callback function handle the results, and do not procede directly on building the table of results. In this case for instance, the external program can decide to store the results locally and build the table further on another moment (LUCINDA case)  \n",
    "2) An external program that uses OSCAR can specify some modifications to apply on the original configuration file. For instance, to delete an unwanted column on the table, or modify its header title. An example:\n",
    "```\n",
    "var config_mod = [\n",
    "    {\"key\":\"categories.[[name,document]].fields.[[title,Publisher]]\" ,\"value\":\"REMOVE_ENTRY\"},\n",
    "    {\"key\":\"progress_loader.visible\" ,\"value\":false}\n",
    "\t\t\t\t\t];\n",
    "```\n",
    "In the above example this object will be sent to OSCAR when calling it. The first entry means: go to the \"key\" categories, Where 'name' field equals 'document', and the specific field with 'title' equal 'Publisher', and remove such entry -> \"REMOVE_ENTRY\". The Second entry modifies the field 'progress_loader.visible' to the bool value 'false'."
   ]
  },
  {
   "cell_type": "markdown",
   "metadata": {
    "collapsed": true
   },
   "source": [
    "---\n",
    "## Wednesday 4/4/2018:\n",
    "I started the day by testing LUCINDA and OSCAR and adjusting some small issues. After a meeting with Silvio we uploaded online both the new versions of OSCAR and LUCINDA. We have listed together some other new issues that needed to be fixed on the new versions:  \n",
    "1) Create the possibility to set a default ‘Number of Rows’ and ‘Sort Field’ in the table of OSCAR. For instance, we want to set a major number of rows per page when visualizing the number of documents in LUCINDA (30).  \n",
    "2) The links of LUCINDA (like in OSCAR) must open a new tab in the browser when clicked. It is also better to set ‘NONE’ values as ‘UNKNOWN’.  \n",
    "3) The index menu of OSCAR in LUCINDA is not updating correctly the visual aspect of the buttons clicked. There is also an issue related to browsing the page via Firefox.\n",
    "\n",
    "The above issues have been fixed and the repositories updated. \n",
    "\n",
    "There are other aspects that need to be elaborated:  \n",
    "1) When moving from an OSCAR table to another in LUCINDA the current state is not saved. This problem is due to the fact that currently LUCINDA is associated with only one instance of OSCAR configuration file, and I can’t define a separated configuration for each table.   \n",
    "2) The resource id (e.g: “br/14”) does not sort correctly, since OSCAR treat it like a textual input.  \n",
    "3) Some text is not decoded correctly. Still need to figure out the cause for this."
   ]
  },
  {
   "cell_type": "markdown",
   "metadata": {
    "collapsed": true
   },
   "source": [
    "---\n",
    "## Thursday 5/4/2018:\n",
    "I have worked on the second part of the issues I have listed yesterday.  \n",
    "I have been able to let the sort operation be applied also to a hidden value corresponding to the values on a specific column, for instance in the case of the “Resource Id” we would like to treat values in the form of “br/[[N]]” as only numbers [[N]] when applying a sort on the column.   \n",
    "Another important part (which turned out much more complex than expected) is creating a separated OSCAR state for each different table in LUCINDA. I have done significant improvements regard this issue, but still much work on it is needed."
   ]
  },
  {
   "cell_type": "code",
   "execution_count": null,
   "metadata": {
    "collapsed": true
   },
   "outputs": [],
   "source": []
  }
 ],
 "metadata": {
  "kernelspec": {
   "display_name": "Python 3",
   "language": "python",
   "name": "python3"
  },
  "language_info": {
   "codemirror_mode": {
    "name": "ipython",
    "version": 3
   },
   "file_extension": ".py",
   "mimetype": "text/x-python",
   "name": "python",
   "nbconvert_exporter": "python",
   "pygments_lexer": "ipython3",
   "version": "3.6.3"
  }
 },
 "nbformat": 4,
 "nbformat_minor": 2
}
