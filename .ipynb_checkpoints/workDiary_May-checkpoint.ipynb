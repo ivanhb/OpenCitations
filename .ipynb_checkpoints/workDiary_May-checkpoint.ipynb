{
 "cells": [
  {
   "cell_type": "markdown",
   "metadata": {},
   "source": [
    "## Wednesday 2/5/2018:\n",
    "I took and re-analyzed the whole COCI processing procedure step by step and following each script and corresponding output. I made a summarizing graph to help us understand all the phases (and keep track of all the scripts we have and when do we use them):"
   ]
  },
  {
   "cell_type": "markdown",
   "metadata": {},
   "source": [
    "<img src=\"img/coci-diagram.png\" style=\"display: inline-block; height: 560px; width: 640px;\"/>"
   ]
  },
  {
   "cell_type": "markdown",
   "metadata": {},
   "source": [
    "Another important diagram needed is for OSCAR configuration file, since right now we have a more stable version (specially after the integration of the advanced searching operations). I have again used yED to build it and it is stored in [OSCARs repository](https://github.com/opencitations/oscar/blob/master/doc/config_file.png). Here we have a screenshot of it: "
   ]
  },
  {
   "cell_type": "markdown",
   "metadata": {},
   "source": [
    "<img src=\"img/config_file.png\" style=\"display: inline-block; height: 580px; width: 640px;\"/>"
   ]
  },
  {
   "cell_type": "markdown",
   "metadata": {},
   "source": [
    "---\n",
    "## Thursday 3/5/2018:\n",
    "As for OSCAR I have built a diagram graph also for LUCINDA config file:"
   ]
  },
  {
   "cell_type": "markdown",
   "metadata": {},
   "source": [
    "<img src=\"img/config_file_lucinda.png\" style=\"display: inline-block; height: 580px; width: 640px;\"/>"
   ]
  },
  {
   "cell_type": "markdown",
   "metadata": {},
   "source": [
    "**Note:** a future interesting work might be to create a visual interface that will assist people on the generation of the configuration files for both OSCAR and LUCINDA."
   ]
  },
  {
   "cell_type": "markdown",
   "metadata": {
    "collapsed": true
   },
   "source": [
    "I have made a new additions to OSCAR :\n",
    "* I have added the possibility to limit the textual content inside the table cell. For instance, in the case of OCIs we have very large id numbers that which we can visualize in a shorter version with a final \"...\" suffix.  \n",
    "\n",
    "I have read [this interesting article presented at the The Web Conference 2018](http://delivery.acm.org/10.1145/3190000/3188739/p775-lisena.html?ip=137.204.150.17&id=3188739&acc=ACTIVE%20SERVICE&key=296E2ED678667973%2E274F812FD871B748%2E4D4702B0C3E38B35%2E4D4702B0C3E38B35&__acm__=1525342004_95fe36cb0b34dbbfe466ddf07072620f). It defines a possible approach to remodel the JSON data results retrieved when calling a SPARQL endpoint, the new format removes redundant information and compact the output in a more readable form. In our case (for both LUCINDA and OSCAR) this operation is somehow made in an implicit way after getting the results from the SPARQL endpoint, however it is an adhoc approach and does not collapse the redundant information of the original JSON.  \n",
    "I have started working locally on a new module I have named NeViR (Network Visualizer for RDF). This new .JS module will build Network Graph visualizations on the RDF data. We will follow the same strategy adopted on LUCINDA and OSCAR. A new configuration file containing all the parameters needed. I will define more properly in the next days more details on this new module (specially after consulting Silvio). Right now I am using [vis.js](http://visjs.org/) as external library for building such graphs."
   ]
  },
  {
   "cell_type": "markdown",
   "metadata": {
    "collapsed": true
   },
   "source": [
    "---\n",
    "## Friday 4/5/2018:\n",
    "I continued my work on the new module NeViR. This tool should be flexible for any type of data we would like to represent. For the opencitation case we are mainly focused on two representations:   \n",
    "* The general case: the nodes are different DOIs and edges represent citations between two nodes.  \n",
    "* OCI: in this case the nodes are the \"citations\" while the edges connect between a cited entity of a citation node and the citing entity of another citation node.    \n",
    "\n",
    "I have defined the configuration file structure and the parameters we will need to specify. As first steps the program will do a sparql query (like LUCINDA and OSCAR) and then nodes and edges will be defined adapting the data retrieved. Both nodes and edges form are specified inside the configuration file.  \n",
    "I will post some code parts and examples in the next days."
   ]
  },
  {
   "cell_type": "markdown",
   "metadata": {
    "collapsed": true
   },
   "source": [
    "---\n",
    "## Monday 7/5/2018 - Friday 11/5/2018:\n",
    "I am preparing all the documentations/materials needed to my Ph.D proposal. I will keep working on COCI and NeViR briefly in this week."
   ]
  },
  {
   "cell_type": "code",
   "execution_count": null,
   "metadata": {
    "collapsed": true
   },
   "outputs": [],
   "source": []
  }
 ],
 "metadata": {
  "kernelspec": {
   "display_name": "Python 3",
   "language": "python",
   "name": "python3"
  },
  "language_info": {
   "codemirror_mode": {
    "name": "ipython",
    "version": 3
   },
   "file_extension": ".py",
   "mimetype": "text/x-python",
   "name": "python",
   "nbconvert_exporter": "python",
   "pygments_lexer": "ipython3",
   "version": "3.6.3"
  }
 },
 "nbformat": 4,
 "nbformat_minor": 2
}
