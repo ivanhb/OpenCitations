{
 "cells": [
  {
   "cell_type": "markdown",
   "metadata": {},
   "source": [
    "## Wednesday 2/5/2018:\n",
    "I took and re-analyzed the whole COCI processing procedure step by step and following each script and corresponding output. I made a summarizing graph to help us understand all the phases (and keep track of all the scripts we have and when do we use them):"
   ]
  },
  {
   "cell_type": "markdown",
   "metadata": {},
   "source": [
    "<img src=\"img/coci-diagram.png\" style=\"display: inline-block; height: 560px; width: 640px;\"/>"
   ]
  },
  {
   "cell_type": "markdown",
   "metadata": {},
   "source": [
    "Another important diagram needed is for OSCAR configuration file, since right now we have a more stable version (specially after the integration of the advanced searching operations). I have again used yED to build it and it is stored in [OSCARs repository](https://github.com/opencitations/oscar/blob/master/doc/config_file.png). Here we have a screenshot of it: "
   ]
  },
  {
   "cell_type": "markdown",
   "metadata": {},
   "source": [
    "<img src=\"img/config_file.png\" style=\"display: inline-block; height: 580px; width: 640px;\"/>"
   ]
  },
  {
   "cell_type": "markdown",
   "metadata": {},
   "source": [
    "---\n",
    "## Thursday 3/5/2018:\n",
    "As for OSCAR I have built a diagram graph also for LUCINDA config file:"
   ]
  },
  {
   "cell_type": "markdown",
   "metadata": {},
   "source": [
    "<img src=\"img/config_file_lucinda.png\" style=\"display: inline-block; height: 580px; width: 640px;\"/>"
   ]
  },
  {
   "cell_type": "markdown",
   "metadata": {},
   "source": [
    "**Note:** a future interesting work might be to create a visual interface that will assist people on the generation of the configuration files for both OSCAR and LUCINDA."
   ]
  },
  {
   "cell_type": "markdown",
   "metadata": {
    "collapsed": true
   },
   "source": [
    "I have made a new additions to OSCAR :\n",
    "* I have added the possibility to limit the textual content inside the table cell. For instance, in the case of OCIs we have very large id numbers that which we can visualize in a shorter version with a final \"...\" suffix.  \n",
    "\n",
    "I have read [this interesting article presented at the The Web Conference 2018](http://delivery.acm.org/10.1145/3190000/3188739/p775-lisena.html?ip=137.204.150.17&id=3188739&acc=ACTIVE%20SERVICE&key=296E2ED678667973%2E274F812FD871B748%2E4D4702B0C3E38B35%2E4D4702B0C3E38B35&__acm__=1525342004_95fe36cb0b34dbbfe466ddf07072620f). It defines a possible approach to remodel the JSON data results retrieved when calling a SPARQL endpoint, the new format removes redundant information and compact the output in a more readable form. In our case (for both LUCINDA and OSCAR) this operation is somehow made in an implicit way after getting the results from the SPARQL endpoint, however it is an adhoc approach and does not collapse the redundant information of the original JSON.  \n",
    "I have started working locally on a new module I have named NeViR (Network Visualizer for RDF). This new .JS module will build Network Graph visualizations on the RDF data. We will follow the same strategy adopted on LUCINDA and OSCAR. A new configuration file containing all the parameters needed. I will define more properly in the next days more details on this new module (specially after consulting Silvio). Right now I am using [vis.js](http://visjs.org/) as external library for building such graphs."
   ]
  },
  {
   "cell_type": "markdown",
   "metadata": {
    "collapsed": true
   },
   "source": [
    "---\n",
    "## Friday 4/5/2018:\n",
    "I continued my work on the new module NeViR. This tool should be flexible for any type of data we would like to represent. For the opencitation case we are mainly focused on two representations:   \n",
    "* The general case: the nodes are different DOIs and edges represent citations between two nodes.  \n",
    "* OCI: in this case the nodes are the \"citations\" while the edges connect between a cited entity of a citation node and the citing entity of another citation node.    \n",
    "\n",
    "I have defined the configuration file structure and the parameters we will need to specify. As first steps the program will do a sparql query (like LUCINDA and OSCAR) and then nodes and edges will be defined adapting the data retrieved. Both nodes and edges form are specified inside the configuration file.  \n",
    "I will post some code parts and examples in the next days."
   ]
  },
  {
   "cell_type": "markdown",
   "metadata": {
    "collapsed": true
   },
   "source": [
    "---\n",
    "## Monday 7/5/2018 - Monday 14/5/2018:\n",
    "I am preparing all the documentations/materials needed to my Ph.D proposal. I will keep working on COCI and NeViR briefly in this week."
   ]
  },
  {
   "cell_type": "markdown",
   "metadata": {
    "collapsed": true
   },
   "source": [
    "---\n",
    "## Tuesday 14/5/2018:\n",
    "I have re-started working with NeViR. Following also the last discussions and suggestions David gave us. \n",
    "The core idea is to have a sparql query for the nodes, and one for the edges. \n",
    "Let's take as an example the \"citations\", the system will work as follow:  \n",
    "Pre) in this case the nodes are the citations resources, and they are connected through citing and cited entities the embed.  \n",
    "1) A user want to visualize the network starting from a specific id, e.g: \"02001010806360107050663080702026306630509-02001010806360107050663080702026305630301\"   \n",
    "2) The system will perform the sparql query of the nodes to this specific Id.  \n",
    "3) Once we have the element we will generate the edges directly connected to him, by applying the edges sparql query. This query might take values from the node-sparql-query results and push it inside it. An edge query example is:"
   ]
  },
  {
   "cell_type": "code",
   "execution_count": null,
   "metadata": {
    "collapsed": true
   },
   "outputs": [],
   "source": [
    "\"query\": [\n",
    "          \"SELECT ?id ?from ?to WHERE  {\",\n",
    "                \"{?iri cito:hasCitedEntity <[[node.citing_doi_iri]]> .}\",\n",
    "                \"UNION\",\n",
    "                \"{?iri cito:hasCitingEntity <[[node.cited_doi_iri]]> .}\",\n",
    "                \"BIND(REPLACE(STR(?iri), 'https://w3id.org/oc/index/coci/', '', 'i') as ?from) .\",\n",
    "                \"BIND('ci/[[node.short_iri]]' as ?to) .\",\n",
    "              \"}\"\n",
    "        ],"
   ]
  },
  {
   "cell_type": "markdown",
   "metadata": {},
   "source": [
    "4) we have some new nodes as a consequence of step (3). Therefore we will apply step (2) on each new node id."
   ]
  },
  {
   "cell_type": "markdown",
   "metadata": {},
   "source": [
    "The current situation right now builds a node and its directly connected edges. I will proceed tomorrow with the next steps. "
   ]
  },
  {
   "cell_type": "markdown",
   "metadata": {
    "collapsed": true
   },
   "source": [
    "---\n",
    "## Wednesday 16/5/2018:\n",
    "I am working on adding a new important process on NeViR: following the original node (the want we would like to create a network around) all the others should be generated recursively, alongside their edges. There are some important aspects to be aware of in this case:\n",
    "* User can decide the depth of the right(citing direction) and the left(cited direction) depth. E.g: starting from a specific node generate 2 levels on the left side and 1 level on the right.\n",
    "* Once the system is generating new nodes on a specific direction, the nodes generated should not have connections on the opposite direction. In other words, they should all follow same flow.\n",
    "\n",
    "I am developing these points, which are crucial for a correct visualization of the final network."
   ]
  },
  {
   "cell_type": "markdown",
   "metadata": {},
   "source": [
    "---\n",
    "## Thursday 17/5/2018:\n",
    "I started my day working on NeViR and finalizing the last parts developed yesterday. The current logical process is summarized in this scheme:"
   ]
  },
  {
   "cell_type": "markdown",
   "metadata": {},
   "source": [
    "<img src=\"img/logic_scheme_nevir.png\" style=\"display: inline-block; height: 480px; width: 540px;\"/>"
   ]
  },
  {
   "cell_type": "markdown",
   "metadata": {
    "collapsed": true
   },
   "source": [
    "Together with Silvio we talked about the current situation of the COCI project and scheduled the next steps to perform in order to make the COCI service as soon as possible available on the OpenCitations web site. I will stop my work on the NeViR project, and move back to the COCI project."
   ]
  },
  {
   "cell_type": "markdown",
   "metadata": {},
   "source": [
    "---\n",
    "## Friday 18/5/2018:\n",
    "The citation.py module has been modified: when calling 'get_citation_rdf' method, users have the ability to decide whether to include/exclude **prov** and **data** triples in the returned graph.  \n",
    "This implies a new addition to the RDF-Triples generator script. Now we have the possibility to decide what type of output file wa want: **Data or Provenance**. In addition we can specify **the base url** to add as a prefix to our entities. In case we want only Provenance triples, We call it this way:     "
   ]
  },
  {
   "cell_type": "markdown",
   "metadata": {},
   "source": [
    "```python3.6 coci_rdfgen.py -in data/cocioutput_sample/ -out prov_dataset.nt -prov -baseurl https://w3id.org/oc/index/coci/```"
   ]
  },
  {
   "cell_type": "markdown",
   "metadata": {},
   "source": [
    "Moving to blazegraph, we can create a new graph with the ```CREATE``` command, and in order to view the current graphs, we use this sparql query:"
   ]
  },
  {
   "cell_type": "code",
   "execution_count": null,
   "metadata": {
    "collapsed": true
   },
   "outputs": [],
   "source": [
    "SELECT DISTINCT ?g \n",
    "WHERE {\n",
    "  GRAPH ?g { ?s ?p ?o }\n",
    "} "
   ]
  },
  {
   "cell_type": "markdown",
   "metadata": {},
   "source": [
    "In case we want to insert some triples inside a specific Graph:"
   ]
  },
  {
   "cell_type": "code",
   "execution_count": null,
   "metadata": {
    "collapsed": true
   },
   "outputs": [],
   "source": [
    "INSERT DATA\n",
    "  { \n",
    "    GRAPH <http://w3id.org/oc/index/coci/prov/> \n",
    "    {\t\t\t<https://w3id.org/oc/index/coci/ci/02001010806360107050663080702026306630509-02001010806360107050663080702026305630201> <http://www.w3.org/1999/02/22-rdf-syntax-ns#type> <http://purl.org/spar/cito/Citation> .\n",
    "\t\t\t\t<https://w3id.org/oc/index/coci/ci/02001010806360107050663080702026306630509-02001010806360107050663080702026305630201> <http://purl.org/spar/cito/hasCitationTimeSpan> \"P1Y\"^^<http://www.w3.org/2001/XMLSchema#duration> .\n",
    "\t\t\t\t<https://w3id.org/oc/index/coci/ci/02001010806360107050663080702026306630509-02001010806360107050663080702026305630201> <http://purl.org/spar/cito/hasCitedEntity> <http://dx.doi.org/10.1186/1756-8722-5-21> .\n",
    "\t\t\t\t<https://w3id.org/oc/index/coci/ci/02001010806360107050663080702026306630509-02001010806360107050663080702026305630201> <http://purl.org/spar/cito/hasCitingEntity> <http://dx.doi.org/10.1186/1756-8722-6-59> .\n",
    "  \t} \n",
    " }"
   ]
  },
  {
   "cell_type": "markdown",
   "metadata": {},
   "source": [
    "In case it's a file (Our case) we use:"
   ]
  },
  {
   "cell_type": "markdown",
   "metadata": {},
   "source": [
    "```LOAD <file:/.../scripttest/dataset.nt> INTO GRAPH <http://w3id.org/oc/index/coci/prov/>```"
   ]
  },
  {
   "cell_type": "markdown",
   "metadata": {},
   "source": [
    "We need to make a script do this operations automatically. The idea is to use [pymantic library](https://github.com/blazegraph/blazegraph-python), here is a little example which visualize the current graphs stored:"
   ]
  },
  {
   "cell_type": "code",
   "execution_count": null,
   "metadata": {
    "collapsed": true
   },
   "outputs": [],
   "source": [
    "from pymantic import sparql\n",
    "\n",
    "server = sparql.SPARQLServer('http://.../blazegraph/sparql')\n",
    "result = server.query('SELECT DISTINCT ?g WHERE {GRAPH ?g { ?s ?p ?o }}')\n",
    "for b in result['results']['bindings']:\n",
    "    print b"
   ]
  },
  {
   "cell_type": "markdown",
   "metadata": {},
   "source": [
    "---\n",
    "## Monday 21/5/2018:\n",
    "I have written a new script \"coci_update_graph.py\" which takes as input the .NT (N-Triples) and upload them on a specific graph. In this case we have the ability to address different .NT files to different graph adresses. E.g: a possible call to this script is the following one:  \n",
    "```python2.7 coci_update_graph.py -in scripttest/data_dataset.nt --graph http://test.it/data --server http://localhost:9999/blazegraph/sparql```  \n",
    "In this example the script will populate the graph <http://test.it/data> with the new triples inside scripttest/data_dataset.nt, the sparql endpoint (server) address in this case is 'http://localhost:9999/blazegraph/sparql'.  \n",
    "I have 'forked' the web site repository of opencitations and modified the files needed to run the COCI service.   \n",
    "I have also prepared all the needed documents for the SAVESD paper submission. I will send them tomorrow, right after my meeting with Silvio."
   ]
  },
  {
   "cell_type": "markdown",
   "metadata": {
    "collapsed": true
   },
   "source": [
    "---\n",
    "## Tuesday 22/5/2018:\n",
    "I am working on the forked version of the OpenCitations site. I have modified the javascripts and uploaded the new COCI configuration files. In addition new versions of OSCAR and LUCINDA will be available in this version.  \n",
    "We have arranged another meeting with the DASPLAB Colleagues. It could be possible that OSCAR and LUCINDA could be used also in their projects."
   ]
  },
  {
   "cell_type": "markdown",
   "metadata": {
    "collapsed": true
   },
   "source": [
    "---\n",
    "## Wednesday 23/5/2018:\n",
    "I did have some technical problems with my notebook. Therefore, right now I am using another computer. I did some pre recovery steps to make sure all the essential parts needed for the COCI project works correctly on it.   \n",
    "I have also prepared the list of operations me and Silvio should do (hopefully tomorrow) in order to integrate COCI in OpenCitations."
   ]
  },
  {
   "cell_type": "markdown",
   "metadata": {
    "collapsed": true
   },
   "source": [
    "---\n",
    "## Thursday 24/5/2018:\n",
    "I have worked on the morning on the forked repository of the OpenCitations web site. Then together with Silvio, we spent some time to merge all the new additional modifications I have made.  \n",
    "After, we took note of some additional modifications arrangements to further apply on the current version."
   ]
  },
  {
   "cell_type": "markdown",
   "metadata": {},
   "source": [
    "---\n",
    "## Friday 25/5/2018:\n",
    "I have made some changes on the ‘oc.py’ module. Now the 'Sparql', 'Search', and 'Browser' classes are handled differently. For instance the 'Search' class:\n"
   ]
  },
  {
   "cell_type": "code",
   "execution_count": 1,
   "metadata": {
    "collapsed": true
   },
   "outputs": [],
   "source": [
    "class Search:\n",
    "    def __init__(self, active_page, render_page):\n",
    "        self.active_page = active_page\n",
    "        self.render_page = render_page\n",
    "\n",
    "    def GET(self):\n",
    "        web_logger.mes()\n",
    "        query_string = web.ctx.env.get(\"QUERY_STRING\")\n",
    "        return self.render_page(pages, self.active_page, query_string)\n",
    "\n",
    "class SearchCOCI(Search):\n",
    "    def __init__(self):\n",
    "        Search.__init__(self, \"index\", render.search_coci)\n",
    "\n",
    "class SearchOC(Search):\n",
    "    def __init__(self):\n",
    "        Search.__init__(self, \"search\", render.search)"
   ]
  },
  {
   "cell_type": "markdown",
   "metadata": {},
   "source": [
    "In the above case we have a general Search class, and two sub classes which inherit all the methods of it: SearchCOCI and SearchOC. These two classes are called according to the url specified: the general searching interface in case of http://opencitations.net/search, and the dedicated searching interface of COCI in case of http://opencitations.net/index/coci/search .\n",
    "We have updated the OpenCitations web site repository with this new version of 'oc.py', in addition to other HTML changes."
   ]
  },
  {
   "cell_type": "code",
   "execution_count": null,
   "metadata": {
    "collapsed": true
   },
   "outputs": [],
   "source": []
  }
 ],
 "metadata": {
  "anaconda-cloud": {},
  "kernelspec": {
   "display_name": "Python [default]",
   "language": "python",
   "name": "python3"
  },
  "language_info": {
   "codemirror_mode": {
    "name": "ipython",
    "version": 3
   },
   "file_extension": ".py",
   "mimetype": "text/x-python",
   "name": "python",
   "nbconvert_exporter": "python",
   "pygments_lexer": "ipython3",
   "version": "3.5.2"
  }
 },
 "nbformat": 4,
 "nbformat_minor": 2
}
