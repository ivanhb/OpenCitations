{
 "cells": [
  {
   "cell_type": "markdown",
   "metadata": {},
   "source": [
    "## Wednesday 2/5/2018:\n",
    "I took and re-analyzed the whole COCI processing procedure step by step and following each script and corresponding output. I made a summarizing graph to help us understand all the phases (and keep track of all the scripts we have and when do we use them):"
   ]
  },
  {
   "cell_type": "markdown",
   "metadata": {},
   "source": [
    "<img src=\"img/coci-diagram.png\" style=\"display: inline-block; height: 560px; width: 640px;\"/>"
   ]
  },
  {
   "cell_type": "markdown",
   "metadata": {},
   "source": [
    "Another important diagram needed is for OSCAR configuration file, since right now we have a more stable version (specially after the integration of the advanced searching operations). I have again used yED to build it and it is stored in [OSCARs repository](https://github.com/opencitations/oscar/blob/master/doc/config_file.png). Here we have a screenshot of it: "
   ]
  },
  {
   "cell_type": "markdown",
   "metadata": {},
   "source": [
    "<img src=\"img/config_file.png\" style=\"display: inline-block; height: 580px; width: 640px;\"/>"
   ]
  },
  {
   "cell_type": "code",
   "execution_count": null,
   "metadata": {
    "collapsed": true
   },
   "outputs": [],
   "source": []
  }
 ],
 "metadata": {
  "kernelspec": {
   "display_name": "Python 3",
   "language": "python",
   "name": "python3"
  },
  "language_info": {
   "codemirror_mode": {
    "name": "ipython",
    "version": 3
   },
   "file_extension": ".py",
   "mimetype": "text/x-python",
   "name": "python",
   "nbconvert_exporter": "python",
   "pygments_lexer": "ipython3",
   "version": "3.6.3"
  }
 },
 "nbformat": 4,
 "nbformat_minor": 2
}
