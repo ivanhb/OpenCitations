{
 "cells": [
  {
   "cell_type": "markdown",
   "metadata": {
    "collapsed": true
   },
   "source": [
    "## Tuesday 3/4/2018:\n",
    "Starting from LUCINDA I continued working and completing the OSCAR calls handler. The generation of the OSCAR menu of LUCINDA works this way:  \n",
    "1) calls all the OSCAR-Call entries we wish to add (defined inside the LUCINDA configuration file under the key categories.[[A_CATEGORY]].oscar). This procedure will work as background while loading all the other labels of the page.  \n",
    "2) in case one of the OSCAR-Calls do not return any result LUCINDA removes it from its list.  \n",
    "3) builds the OSCAR navigation menu under the details section. Clicking on a specific element will not call again OSCAR, instead loads the data already retrieved before.\n",
    "\n",
    "\n",
    "In order to make this behavior possibile, some adaptions to OSCAR have been made:  \n",
    "1) A program that uses OSCAR can decide to call it and let an internal callback function handle the results, and do not procede directly on building the table of results. In this case for instance, the external program can decide to store the results locally and build the table further on another moment (LUCINDA case)  \n",
    "2) An external program that uses OSCAR can specify some modifications to apply on the original configuration file. For instance, to delete an unwanted column on the table, or modify its header title. An example:\n",
    "```\n",
    "var config_mod = [\n",
    "    {\"key\":\"categories.[[name,document]].fields.[[title,Publisher]]\" ,\"value\":\"REMOVE_ENTRY\"},\n",
    "    {\"key\":\"progress_loader.visible\" ,\"value\":false}\n",
    "\t\t\t\t\t];\n",
    "```\n",
    "In the above example this object will be sent to OSCAR when calling it. The first entry means: go to the \"key\" categories, Where 'name' field equals 'document', and the specific field with 'title' equal 'Publisher', and remove such entry -> \"REMOVE_ENTRY\". The Second entry modifies the field 'progress_loader.visible' to the bool value 'false'."
   ]
  },
  {
   "cell_type": "code",
   "execution_count": null,
   "metadata": {
    "collapsed": true
   },
   "outputs": [],
   "source": []
  }
 ],
 "metadata": {
  "kernelspec": {
   "display_name": "Python 3",
   "language": "python",
   "name": "python3"
  },
  "language_info": {
   "codemirror_mode": {
    "name": "ipython",
    "version": 3
   },
   "file_extension": ".py",
   "mimetype": "text/x-python",
   "name": "python",
   "nbconvert_exporter": "python",
   "pygments_lexer": "ipython3",
   "version": "3.6.3"
  }
 },
 "nbformat": 4,
 "nbformat_minor": 2
}
