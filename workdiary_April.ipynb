{
 "cells": [
  {
   "cell_type": "markdown",
   "metadata": {
    "collapsed": true
   },
   "source": [
    "## Tuesday 3/4/2018:\n",
    "Starting from LUCINDA I continued working and completing the OSCAR calls handler. The generation of the OSCAR menu of LUCINDA works this way:  \n",
    "1) calls all the OSCAR-Call entries we wish to add (defined inside the LUCINDA configuration file under the key categories.[[A_CATEGORY]].oscar). This procedure will work as background while loading all the other labels of the page.  \n",
    "2) in case one of the OSCAR-Calls do not return any result LUCINDA removes it from its list.  \n",
    "3) builds the OSCAR navigation menu under the details section. Clicking on a specific element will not call again OSCAR, instead loads the data already retrieved before.\n",
    "\n",
    "\n",
    "In order to make this behavior possibile, some adaptions to OSCAR have been made:  \n",
    "1) A program that uses OSCAR can decide to call it and let an internal callback function handle the results, and do not procede directly on building the table of results. In this case for instance, the external program can decide to store the results locally and build the table further on another moment (LUCINDA case)  \n",
    "2) An external program that uses OSCAR can specify some modifications to apply on the original configuration file. For instance, to delete an unwanted column on the table, or modify its header title. An example:\n",
    "```\n",
    "var config_mod = [\n",
    "    {\"key\":\"categories.[[name,document]].fields.[[title,Publisher]]\" ,\"value\":\"REMOVE_ENTRY\"},\n",
    "    {\"key\":\"progress_loader.visible\" ,\"value\":false}\n",
    "\t\t\t\t\t];\n",
    "```\n",
    "In the above example this object will be sent to OSCAR when calling it. The first entry means: go to the \"key\" categories, Where 'name' field equals 'document', and the specific field with 'title' equal 'Publisher', and remove such entry -> \"REMOVE_ENTRY\". The Second entry modifies the field 'progress_loader.visible' to the bool value 'false'."
   ]
  },
  {
   "cell_type": "markdown",
   "metadata": {
    "collapsed": true
   },
   "source": [
    "---\n",
    "## Wednesday 4/4/2018:\n",
    "I started the day by testing LUCINDA and OSCAR and adjusting some small issues. After a meeting with Silvio we uploaded online both the new versions of OSCAR and LUCINDA. We have listed together some other new issues that needed to be fixed on the new versions:  \n",
    "1) Create the possibility to set a default ‘Number of Rows’ and ‘Sort Field’ in the table of OSCAR. For instance, we want to set a major number of rows per page when visualizing the number of documents in LUCINDA (30).  \n",
    "2) The links of LUCINDA (like in OSCAR) must open a new tab in the browser when clicked. It is also better to set ‘NONE’ values as ‘UNKNOWN’.  \n",
    "3) The index menu of OSCAR in LUCINDA is not updating correctly the visual aspect of the buttons clicked. There is also an issue related to browsing the page via Firefox.\n",
    "\n",
    "The above issues have been fixed and the repositories updated. \n",
    "\n",
    "There are other aspects that need to be elaborated:  \n",
    "1) When moving from an OSCAR table to another in LUCINDA the current state is not saved. This problem is due to the fact that currently LUCINDA is associated with only one instance of OSCAR configuration file, and I can’t define a separated configuration for each table.   \n",
    "2) The resource id (e.g: “br/14”) does not sort correctly, since OSCAR treat it like a textual input.  \n",
    "3) Some text is not decoded correctly. Still need to figure out the cause for this."
   ]
  },
  {
   "cell_type": "markdown",
   "metadata": {
    "collapsed": true
   },
   "source": [
    "---\n",
    "## Thursday 5/4/2018:\n",
    "I have worked on the second part of the issues I have listed yesterday.  \n",
    "I have been able to let the sort operation be applied also to a hidden value corresponding to the values on a specific column, for instance in the case of the “Resource Id” we would like to treat values in the form of “br/[[N]]” as only numbers [[N]] when applying a sort on the column.   \n",
    "Another important part (which turned out much more complex than expected) is creating a separated OSCAR state for each different table in LUCINDA. I have done significant improvements regard this issue, but still much work on it is needed."
   ]
  },
  {
   "cell_type": "markdown",
   "metadata": {
    "collapsed": true
   },
   "source": [
    "---\n",
    "## Friday 6/4/2018:\n",
    "I have moved back my attention to the COCI project. Together with Silvio we have established the elaboration phases needed, after all the .CSV dumps are ready:\n",
    "1) The creation of all the RDF triples in .NT format.  \n",
    "2) Push the file generated inside a blazegraph triplestore.   \n",
    "3) Link the server to the new SPARQL endpoint of COCI.  \n",
    "4) Define OSCAR and LUCINDA to query the COCI SPARQL endpoint.  \n",
    "\n",
    "Here what I have been able to do today :  \n",
    "1) I have downloaded the .CSV of the directory ’24’ (the process that have finished)  \n",
    "2) After some adjustments on the script that should generate the .NT file, I have launch it on the .CSV dump and created the output file needed.  \n",
    "3) Through blazegraph a new triplestore have been generated using the output file of step (2)  \n",
    "4) I have tested some queries and redefined the OSCAR configuration file accordingly.  \n",
    "5) A new .html page for COCI in the OSCAR example/ directory has been created, and tested locally.  \n",
    "\n",
    "Everything looks fine and work the right way locally."
   ]
  },
  {
   "cell_type": "markdown",
   "metadata": {
    "collapsed": true
   },
   "source": [
    "---\n",
    "## Monday 9/4/2018:\n",
    "Together with Silvio we talked about the last developments I have made on the COCI project. And we have established some new important issues we need to handle:  \n",
    "1) The RDF generator should create the URLs without decoding also the supported characters (eg: “/”)  \n",
    "2) In case of COCI we will have a one single category in the Advanced search, and therefore we will not specify it on the upper index menu. Along with this, the rules that will be selected from the options switch box will display a placeholder in the input box which specifies the type of Input needed. For instance, a rule “References” will display “DOI” as placeholder.  \n",
    "3) We need to enlarge the global date.csv with all the new dates we have received/elaborated while processing the references. This will let us have a very large file representing a map of all the dates (with the most specific detailed date we can have) of every DOI we encountered in our processing.  \n",
    "\n",
    "\n",
    "I have successfully accomplished the first two points:  \n",
    "1) Using “parse.quote” instead of “parse.quote_plus” generated a new dump as expected.  \n",
    "2) I have modified OSCAR, and now for COCI we have a situation that looks like this:   "
   ]
  },
  {
   "cell_type": "markdown",
   "metadata": {},
   "source": [
    "<img src=\"img/coci-oscar.png\" style=\"display: inline-block; height: 420px; width: 820px;\"/>"
   ]
  },
  {
   "cell_type": "markdown",
   "metadata": {
    "collapsed": true
   },
   "source": [
    "---\n",
    "## Tuesday 10/4/2018:\n",
    "I am still working on OSCAR for COCI and I have made important steps today:\n",
    "* I am working on a local copy of the OpenCitation website and I have defined a new rule to handle the SPARQL endpoint of COCI. Such url is defined in the configuration file, and right now points on my local blazegraph triplestore.   \n",
    "* I have made new additions on the COCI configuration file for OSCAR. In addition I have implemented a new feature which permits the application of a function on the values of the table and map it to a new value. (e.g: translate the timespan in a number of days)  \n",
    "* Some fields of the table make external api calls to retrieve the Reference entry for a specific DOI. (Citing and Cited)  \n",
    "* I have changed the HTML page of “COCI in OSCAR” by also adding some clickable examples (like Wikidata and Scholarlydata examples) "
   ]
  },
  {
   "cell_type": "code",
   "execution_count": null,
   "metadata": {
    "collapsed": true
   },
   "outputs": [],
   "source": []
  }
 ],
 "metadata": {
  "kernelspec": {
   "display_name": "Python 3",
   "language": "python",
   "name": "python3"
  },
  "language_info": {
   "codemirror_mode": {
    "name": "ipython",
    "version": 3
   },
   "file_extension": ".py",
   "mimetype": "text/x-python",
   "name": "python",
   "nbconvert_exporter": "python",
   "pygments_lexer": "ipython3",
   "version": "3.6.3"
  }
 },
 "nbformat": 4,
 "nbformat_minor": 2
}
